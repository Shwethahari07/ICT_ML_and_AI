{
  "nbformat": 4,
  "nbformat_minor": 0,
  "metadata": {
    "colab": {
      "provenance": []
    },
    "kernelspec": {
      "name": "python3",
      "display_name": "Python 3"
    },
    "language_info": {
      "name": "python"
    }
  },
  "cells": [
    {
      "cell_type": "code",
      "execution_count": 17,
      "metadata": {
        "id": "g_EVSl_c4c8O"
      },
      "outputs": [],
      "source": [
        "#importing necessary libraries\n",
        "\n",
        "import numpy as np\n",
        "import pandas as pd\n",
        "from sklearn.feature_extraction.text import CountVectorizer\n",
        "from sklearn.model_selection import train_test_split"
      ]
    },
    {
      "cell_type": "code",
      "source": [
        "#Load the dataset\n",
        "\n",
        "data = pd.read_csv('tweets.csv')"
      ],
      "metadata": {
        "id": "IUEiD1Xy4xmh"
      },
      "execution_count": 3,
      "outputs": []
    },
    {
      "cell_type": "code",
      "source": [
        "data.head()"
      ],
      "metadata": {
        "colab": {
          "base_uri": "https://localhost:8080/",
          "height": 276
        },
        "id": "YF8oFtq7XHwI",
        "outputId": "65d1a213-06a2-4f2b-8141-70a7f97b46d7"
      },
      "execution_count": 190,
      "outputs": [
        {
          "output_type": "execute_result",
          "data": {
            "text/plain": [
              "   id  label  \\\n",
              "0   1      0   \n",
              "1   2      0   \n",
              "2   3      0   \n",
              "3   4      0   \n",
              "4   5      1   \n",
              "\n",
              "                                                                                                             tweet  \n",
              "0  fingerprint pregnancy test httpsgooglhmfqv android apps beautiful cute health igers iphoneonly iphonesia iphone  \n",
              "1             finally transparant silicon case thanks uncle yay sony xperia sonyexperias httpinstagramcompygetjcjm  \n",
              "2                      love would go talk makememories unplug relax iphone smartphone wifi connect httpfbmenlsupcu  \n",
              "3                                  im wired know im george made way iphone cute daventry home httpinstagrampliujsk  \n",
              "4                                          amazing service apple wont even talk question unless pay stupid support  "
            ],
            "text/html": [
              "\n",
              "  <div id=\"df-ad3dc97e-28f8-4ffa-9ac5-fea9d371be6e\" class=\"colab-df-container\">\n",
              "    <div>\n",
              "<style scoped>\n",
              "    .dataframe tbody tr th:only-of-type {\n",
              "        vertical-align: middle;\n",
              "    }\n",
              "\n",
              "    .dataframe tbody tr th {\n",
              "        vertical-align: top;\n",
              "    }\n",
              "\n",
              "    .dataframe thead th {\n",
              "        text-align: right;\n",
              "    }\n",
              "</style>\n",
              "<table border=\"1\" class=\"dataframe\">\n",
              "  <thead>\n",
              "    <tr style=\"text-align: right;\">\n",
              "      <th></th>\n",
              "      <th>id</th>\n",
              "      <th>label</th>\n",
              "      <th>tweet</th>\n",
              "    </tr>\n",
              "  </thead>\n",
              "  <tbody>\n",
              "    <tr>\n",
              "      <th>0</th>\n",
              "      <td>1</td>\n",
              "      <td>0</td>\n",
              "      <td>fingerprint pregnancy test httpsgooglhmfqv android apps beautiful cute health igers iphoneonly iphonesia iphone</td>\n",
              "    </tr>\n",
              "    <tr>\n",
              "      <th>1</th>\n",
              "      <td>2</td>\n",
              "      <td>0</td>\n",
              "      <td>finally transparant silicon case thanks uncle yay sony xperia sonyexperias httpinstagramcompygetjcjm</td>\n",
              "    </tr>\n",
              "    <tr>\n",
              "      <th>2</th>\n",
              "      <td>3</td>\n",
              "      <td>0</td>\n",
              "      <td>love would go talk makememories unplug relax iphone smartphone wifi connect httpfbmenlsupcu</td>\n",
              "    </tr>\n",
              "    <tr>\n",
              "      <th>3</th>\n",
              "      <td>4</td>\n",
              "      <td>0</td>\n",
              "      <td>im wired know im george made way iphone cute daventry home httpinstagrampliujsk</td>\n",
              "    </tr>\n",
              "    <tr>\n",
              "      <th>4</th>\n",
              "      <td>5</td>\n",
              "      <td>1</td>\n",
              "      <td>amazing service apple wont even talk question unless pay stupid support</td>\n",
              "    </tr>\n",
              "  </tbody>\n",
              "</table>\n",
              "</div>\n",
              "    <div class=\"colab-df-buttons\">\n",
              "\n",
              "  <div class=\"colab-df-container\">\n",
              "    <button class=\"colab-df-convert\" onclick=\"convertToInteractive('df-ad3dc97e-28f8-4ffa-9ac5-fea9d371be6e')\"\n",
              "            title=\"Convert this dataframe to an interactive table.\"\n",
              "            style=\"display:none;\">\n",
              "\n",
              "  <svg xmlns=\"http://www.w3.org/2000/svg\" height=\"24px\" viewBox=\"0 -960 960 960\">\n",
              "    <path d=\"M120-120v-720h720v720H120Zm60-500h600v-160H180v160Zm220 220h160v-160H400v160Zm0 220h160v-160H400v160ZM180-400h160v-160H180v160Zm440 0h160v-160H620v160ZM180-180h160v-160H180v160Zm440 0h160v-160H620v160Z\"/>\n",
              "  </svg>\n",
              "    </button>\n",
              "\n",
              "  <style>\n",
              "    .colab-df-container {\n",
              "      display:flex;\n",
              "      gap: 12px;\n",
              "    }\n",
              "\n",
              "    .colab-df-convert {\n",
              "      background-color: #E8F0FE;\n",
              "      border: none;\n",
              "      border-radius: 50%;\n",
              "      cursor: pointer;\n",
              "      display: none;\n",
              "      fill: #1967D2;\n",
              "      height: 32px;\n",
              "      padding: 0 0 0 0;\n",
              "      width: 32px;\n",
              "    }\n",
              "\n",
              "    .colab-df-convert:hover {\n",
              "      background-color: #E2EBFA;\n",
              "      box-shadow: 0px 1px 2px rgba(60, 64, 67, 0.3), 0px 1px 3px 1px rgba(60, 64, 67, 0.15);\n",
              "      fill: #174EA6;\n",
              "    }\n",
              "\n",
              "    .colab-df-buttons div {\n",
              "      margin-bottom: 4px;\n",
              "    }\n",
              "\n",
              "    [theme=dark] .colab-df-convert {\n",
              "      background-color: #3B4455;\n",
              "      fill: #D2E3FC;\n",
              "    }\n",
              "\n",
              "    [theme=dark] .colab-df-convert:hover {\n",
              "      background-color: #434B5C;\n",
              "      box-shadow: 0px 1px 3px 1px rgba(0, 0, 0, 0.15);\n",
              "      filter: drop-shadow(0px 1px 2px rgba(0, 0, 0, 0.3));\n",
              "      fill: #FFFFFF;\n",
              "    }\n",
              "  </style>\n",
              "\n",
              "    <script>\n",
              "      const buttonEl =\n",
              "        document.querySelector('#df-ad3dc97e-28f8-4ffa-9ac5-fea9d371be6e button.colab-df-convert');\n",
              "      buttonEl.style.display =\n",
              "        google.colab.kernel.accessAllowed ? 'block' : 'none';\n",
              "\n",
              "      async function convertToInteractive(key) {\n",
              "        const element = document.querySelector('#df-ad3dc97e-28f8-4ffa-9ac5-fea9d371be6e');\n",
              "        const dataTable =\n",
              "          await google.colab.kernel.invokeFunction('convertToInteractive',\n",
              "                                                    [key], {});\n",
              "        if (!dataTable) return;\n",
              "\n",
              "        const docLinkHtml = 'Like what you see? Visit the ' +\n",
              "          '<a target=\"_blank\" href=https://colab.research.google.com/notebooks/data_table.ipynb>data table notebook</a>'\n",
              "          + ' to learn more about interactive tables.';\n",
              "        element.innerHTML = '';\n",
              "        dataTable['output_type'] = 'display_data';\n",
              "        await google.colab.output.renderOutput(dataTable, element);\n",
              "        const docLink = document.createElement('div');\n",
              "        docLink.innerHTML = docLinkHtml;\n",
              "        element.appendChild(docLink);\n",
              "      }\n",
              "    </script>\n",
              "  </div>\n",
              "\n",
              "\n",
              "<div id=\"df-05b546bb-2a78-4243-a79e-08bf31e63126\">\n",
              "  <button class=\"colab-df-quickchart\" onclick=\"quickchart('df-05b546bb-2a78-4243-a79e-08bf31e63126')\"\n",
              "            title=\"Suggest charts\"\n",
              "            style=\"display:none;\">\n",
              "\n",
              "<svg xmlns=\"http://www.w3.org/2000/svg\" height=\"24px\"viewBox=\"0 0 24 24\"\n",
              "     width=\"24px\">\n",
              "    <g>\n",
              "        <path d=\"M19 3H5c-1.1 0-2 .9-2 2v14c0 1.1.9 2 2 2h14c1.1 0 2-.9 2-2V5c0-1.1-.9-2-2-2zM9 17H7v-7h2v7zm4 0h-2V7h2v10zm4 0h-2v-4h2v4z\"/>\n",
              "    </g>\n",
              "</svg>\n",
              "  </button>\n",
              "\n",
              "<style>\n",
              "  .colab-df-quickchart {\n",
              "      --bg-color: #E8F0FE;\n",
              "      --fill-color: #1967D2;\n",
              "      --hover-bg-color: #E2EBFA;\n",
              "      --hover-fill-color: #174EA6;\n",
              "      --disabled-fill-color: #AAA;\n",
              "      --disabled-bg-color: #DDD;\n",
              "  }\n",
              "\n",
              "  [theme=dark] .colab-df-quickchart {\n",
              "      --bg-color: #3B4455;\n",
              "      --fill-color: #D2E3FC;\n",
              "      --hover-bg-color: #434B5C;\n",
              "      --hover-fill-color: #FFFFFF;\n",
              "      --disabled-bg-color: #3B4455;\n",
              "      --disabled-fill-color: #666;\n",
              "  }\n",
              "\n",
              "  .colab-df-quickchart {\n",
              "    background-color: var(--bg-color);\n",
              "    border: none;\n",
              "    border-radius: 50%;\n",
              "    cursor: pointer;\n",
              "    display: none;\n",
              "    fill: var(--fill-color);\n",
              "    height: 32px;\n",
              "    padding: 0;\n",
              "    width: 32px;\n",
              "  }\n",
              "\n",
              "  .colab-df-quickchart:hover {\n",
              "    background-color: var(--hover-bg-color);\n",
              "    box-shadow: 0 1px 2px rgba(60, 64, 67, 0.3), 0 1px 3px 1px rgba(60, 64, 67, 0.15);\n",
              "    fill: var(--button-hover-fill-color);\n",
              "  }\n",
              "\n",
              "  .colab-df-quickchart-complete:disabled,\n",
              "  .colab-df-quickchart-complete:disabled:hover {\n",
              "    background-color: var(--disabled-bg-color);\n",
              "    fill: var(--disabled-fill-color);\n",
              "    box-shadow: none;\n",
              "  }\n",
              "\n",
              "  .colab-df-spinner {\n",
              "    border: 2px solid var(--fill-color);\n",
              "    border-color: transparent;\n",
              "    border-bottom-color: var(--fill-color);\n",
              "    animation:\n",
              "      spin 1s steps(1) infinite;\n",
              "  }\n",
              "\n",
              "  @keyframes spin {\n",
              "    0% {\n",
              "      border-color: transparent;\n",
              "      border-bottom-color: var(--fill-color);\n",
              "      border-left-color: var(--fill-color);\n",
              "    }\n",
              "    20% {\n",
              "      border-color: transparent;\n",
              "      border-left-color: var(--fill-color);\n",
              "      border-top-color: var(--fill-color);\n",
              "    }\n",
              "    30% {\n",
              "      border-color: transparent;\n",
              "      border-left-color: var(--fill-color);\n",
              "      border-top-color: var(--fill-color);\n",
              "      border-right-color: var(--fill-color);\n",
              "    }\n",
              "    40% {\n",
              "      border-color: transparent;\n",
              "      border-right-color: var(--fill-color);\n",
              "      border-top-color: var(--fill-color);\n",
              "    }\n",
              "    60% {\n",
              "      border-color: transparent;\n",
              "      border-right-color: var(--fill-color);\n",
              "    }\n",
              "    80% {\n",
              "      border-color: transparent;\n",
              "      border-right-color: var(--fill-color);\n",
              "      border-bottom-color: var(--fill-color);\n",
              "    }\n",
              "    90% {\n",
              "      border-color: transparent;\n",
              "      border-bottom-color: var(--fill-color);\n",
              "    }\n",
              "  }\n",
              "</style>\n",
              "\n",
              "  <script>\n",
              "    async function quickchart(key) {\n",
              "      const quickchartButtonEl =\n",
              "        document.querySelector('#' + key + ' button');\n",
              "      quickchartButtonEl.disabled = true;  // To prevent multiple clicks.\n",
              "      quickchartButtonEl.classList.add('colab-df-spinner');\n",
              "      try {\n",
              "        const charts = await google.colab.kernel.invokeFunction(\n",
              "            'suggestCharts', [key], {});\n",
              "      } catch (error) {\n",
              "        console.error('Error during call to suggestCharts:', error);\n",
              "      }\n",
              "      quickchartButtonEl.classList.remove('colab-df-spinner');\n",
              "      quickchartButtonEl.classList.add('colab-df-quickchart-complete');\n",
              "    }\n",
              "    (() => {\n",
              "      let quickchartButtonEl =\n",
              "        document.querySelector('#df-05b546bb-2a78-4243-a79e-08bf31e63126 button');\n",
              "      quickchartButtonEl.style.display =\n",
              "        google.colab.kernel.accessAllowed ? 'block' : 'none';\n",
              "    })();\n",
              "  </script>\n",
              "</div>\n",
              "    </div>\n",
              "  </div>\n"
            ]
          },
          "metadata": {},
          "execution_count": 190
        }
      ]
    },
    {
      "cell_type": "code",
      "source": [
        "#exploratory analysis\n",
        "\n",
        "data.shape"
      ],
      "metadata": {
        "colab": {
          "base_uri": "https://localhost:8080/"
        },
        "id": "HVOPg-VZICCh",
        "outputId": "42879f62-df1e-468a-9135-140830f2b9c7"
      },
      "execution_count": 4,
      "outputs": [
        {
          "output_type": "execute_result",
          "data": {
            "text/plain": [
              "(7920, 3)"
            ]
          },
          "metadata": {},
          "execution_count": 4
        }
      ]
    },
    {
      "cell_type": "code",
      "source": [
        "data.columns"
      ],
      "metadata": {
        "colab": {
          "base_uri": "https://localhost:8080/"
        },
        "id": "aSEhAibPdbGf",
        "outputId": "ab2cd24d-5946-4702-f67d-a0d22eea1085"
      },
      "execution_count": 5,
      "outputs": [
        {
          "output_type": "execute_result",
          "data": {
            "text/plain": [
              "Index(['id', 'label', 'tweet'], dtype='object')"
            ]
          },
          "metadata": {},
          "execution_count": 5
        }
      ]
    },
    {
      "cell_type": "code",
      "source": [
        "data.dtypes"
      ],
      "metadata": {
        "colab": {
          "base_uri": "https://localhost:8080/"
        },
        "id": "Ly2IfdnJeUIx",
        "outputId": "85e2fa1d-6dab-43a5-ba00-894caa97cebc"
      },
      "execution_count": 6,
      "outputs": [
        {
          "output_type": "execute_result",
          "data": {
            "text/plain": [
              "id        int64\n",
              "label     int64\n",
              "tweet    object\n",
              "dtype: object"
            ]
          },
          "metadata": {},
          "execution_count": 6
        }
      ]
    },
    {
      "cell_type": "code",
      "source": [
        "data.describe()"
      ],
      "metadata": {
        "colab": {
          "base_uri": "https://localhost:8080/",
          "height": 300
        },
        "id": "GKWceO2gdt_3",
        "outputId": "d6e63ccc-e9fc-4b31-977d-46b827325be8"
      },
      "execution_count": 7,
      "outputs": [
        {
          "output_type": "execute_result",
          "data": {
            "text/plain": [
              "                id        label\n",
              "count  7920.000000  7920.000000\n",
              "mean   3960.500000     0.255808\n",
              "std    2286.451399     0.436342\n",
              "min       1.000000     0.000000\n",
              "25%    1980.750000     0.000000\n",
              "50%    3960.500000     0.000000\n",
              "75%    5940.250000     1.000000\n",
              "max    7920.000000     1.000000"
            ],
            "text/html": [
              "\n",
              "  <div id=\"df-2811915f-7d2b-4a2c-88a5-e889e441dd39\" class=\"colab-df-container\">\n",
              "    <div>\n",
              "<style scoped>\n",
              "    .dataframe tbody tr th:only-of-type {\n",
              "        vertical-align: middle;\n",
              "    }\n",
              "\n",
              "    .dataframe tbody tr th {\n",
              "        vertical-align: top;\n",
              "    }\n",
              "\n",
              "    .dataframe thead th {\n",
              "        text-align: right;\n",
              "    }\n",
              "</style>\n",
              "<table border=\"1\" class=\"dataframe\">\n",
              "  <thead>\n",
              "    <tr style=\"text-align: right;\">\n",
              "      <th></th>\n",
              "      <th>id</th>\n",
              "      <th>label</th>\n",
              "    </tr>\n",
              "  </thead>\n",
              "  <tbody>\n",
              "    <tr>\n",
              "      <th>count</th>\n",
              "      <td>7920.000000</td>\n",
              "      <td>7920.000000</td>\n",
              "    </tr>\n",
              "    <tr>\n",
              "      <th>mean</th>\n",
              "      <td>3960.500000</td>\n",
              "      <td>0.255808</td>\n",
              "    </tr>\n",
              "    <tr>\n",
              "      <th>std</th>\n",
              "      <td>2286.451399</td>\n",
              "      <td>0.436342</td>\n",
              "    </tr>\n",
              "    <tr>\n",
              "      <th>min</th>\n",
              "      <td>1.000000</td>\n",
              "      <td>0.000000</td>\n",
              "    </tr>\n",
              "    <tr>\n",
              "      <th>25%</th>\n",
              "      <td>1980.750000</td>\n",
              "      <td>0.000000</td>\n",
              "    </tr>\n",
              "    <tr>\n",
              "      <th>50%</th>\n",
              "      <td>3960.500000</td>\n",
              "      <td>0.000000</td>\n",
              "    </tr>\n",
              "    <tr>\n",
              "      <th>75%</th>\n",
              "      <td>5940.250000</td>\n",
              "      <td>1.000000</td>\n",
              "    </tr>\n",
              "    <tr>\n",
              "      <th>max</th>\n",
              "      <td>7920.000000</td>\n",
              "      <td>1.000000</td>\n",
              "    </tr>\n",
              "  </tbody>\n",
              "</table>\n",
              "</div>\n",
              "    <div class=\"colab-df-buttons\">\n",
              "\n",
              "  <div class=\"colab-df-container\">\n",
              "    <button class=\"colab-df-convert\" onclick=\"convertToInteractive('df-2811915f-7d2b-4a2c-88a5-e889e441dd39')\"\n",
              "            title=\"Convert this dataframe to an interactive table.\"\n",
              "            style=\"display:none;\">\n",
              "\n",
              "  <svg xmlns=\"http://www.w3.org/2000/svg\" height=\"24px\" viewBox=\"0 -960 960 960\">\n",
              "    <path d=\"M120-120v-720h720v720H120Zm60-500h600v-160H180v160Zm220 220h160v-160H400v160Zm0 220h160v-160H400v160ZM180-400h160v-160H180v160Zm440 0h160v-160H620v160ZM180-180h160v-160H180v160Zm440 0h160v-160H620v160Z\"/>\n",
              "  </svg>\n",
              "    </button>\n",
              "\n",
              "  <style>\n",
              "    .colab-df-container {\n",
              "      display:flex;\n",
              "      gap: 12px;\n",
              "    }\n",
              "\n",
              "    .colab-df-convert {\n",
              "      background-color: #E8F0FE;\n",
              "      border: none;\n",
              "      border-radius: 50%;\n",
              "      cursor: pointer;\n",
              "      display: none;\n",
              "      fill: #1967D2;\n",
              "      height: 32px;\n",
              "      padding: 0 0 0 0;\n",
              "      width: 32px;\n",
              "    }\n",
              "\n",
              "    .colab-df-convert:hover {\n",
              "      background-color: #E2EBFA;\n",
              "      box-shadow: 0px 1px 2px rgba(60, 64, 67, 0.3), 0px 1px 3px 1px rgba(60, 64, 67, 0.15);\n",
              "      fill: #174EA6;\n",
              "    }\n",
              "\n",
              "    .colab-df-buttons div {\n",
              "      margin-bottom: 4px;\n",
              "    }\n",
              "\n",
              "    [theme=dark] .colab-df-convert {\n",
              "      background-color: #3B4455;\n",
              "      fill: #D2E3FC;\n",
              "    }\n",
              "\n",
              "    [theme=dark] .colab-df-convert:hover {\n",
              "      background-color: #434B5C;\n",
              "      box-shadow: 0px 1px 3px 1px rgba(0, 0, 0, 0.15);\n",
              "      filter: drop-shadow(0px 1px 2px rgba(0, 0, 0, 0.3));\n",
              "      fill: #FFFFFF;\n",
              "    }\n",
              "  </style>\n",
              "\n",
              "    <script>\n",
              "      const buttonEl =\n",
              "        document.querySelector('#df-2811915f-7d2b-4a2c-88a5-e889e441dd39 button.colab-df-convert');\n",
              "      buttonEl.style.display =\n",
              "        google.colab.kernel.accessAllowed ? 'block' : 'none';\n",
              "\n",
              "      async function convertToInteractive(key) {\n",
              "        const element = document.querySelector('#df-2811915f-7d2b-4a2c-88a5-e889e441dd39');\n",
              "        const dataTable =\n",
              "          await google.colab.kernel.invokeFunction('convertToInteractive',\n",
              "                                                    [key], {});\n",
              "        if (!dataTable) return;\n",
              "\n",
              "        const docLinkHtml = 'Like what you see? Visit the ' +\n",
              "          '<a target=\"_blank\" href=https://colab.research.google.com/notebooks/data_table.ipynb>data table notebook</a>'\n",
              "          + ' to learn more about interactive tables.';\n",
              "        element.innerHTML = '';\n",
              "        dataTable['output_type'] = 'display_data';\n",
              "        await google.colab.output.renderOutput(dataTable, element);\n",
              "        const docLink = document.createElement('div');\n",
              "        docLink.innerHTML = docLinkHtml;\n",
              "        element.appendChild(docLink);\n",
              "      }\n",
              "    </script>\n",
              "  </div>\n",
              "\n",
              "\n",
              "<div id=\"df-d9c49883-6c99-4ee8-9a45-5ce0f3299838\">\n",
              "  <button class=\"colab-df-quickchart\" onclick=\"quickchart('df-d9c49883-6c99-4ee8-9a45-5ce0f3299838')\"\n",
              "            title=\"Suggest charts\"\n",
              "            style=\"display:none;\">\n",
              "\n",
              "<svg xmlns=\"http://www.w3.org/2000/svg\" height=\"24px\"viewBox=\"0 0 24 24\"\n",
              "     width=\"24px\">\n",
              "    <g>\n",
              "        <path d=\"M19 3H5c-1.1 0-2 .9-2 2v14c0 1.1.9 2 2 2h14c1.1 0 2-.9 2-2V5c0-1.1-.9-2-2-2zM9 17H7v-7h2v7zm4 0h-2V7h2v10zm4 0h-2v-4h2v4z\"/>\n",
              "    </g>\n",
              "</svg>\n",
              "  </button>\n",
              "\n",
              "<style>\n",
              "  .colab-df-quickchart {\n",
              "      --bg-color: #E8F0FE;\n",
              "      --fill-color: #1967D2;\n",
              "      --hover-bg-color: #E2EBFA;\n",
              "      --hover-fill-color: #174EA6;\n",
              "      --disabled-fill-color: #AAA;\n",
              "      --disabled-bg-color: #DDD;\n",
              "  }\n",
              "\n",
              "  [theme=dark] .colab-df-quickchart {\n",
              "      --bg-color: #3B4455;\n",
              "      --fill-color: #D2E3FC;\n",
              "      --hover-bg-color: #434B5C;\n",
              "      --hover-fill-color: #FFFFFF;\n",
              "      --disabled-bg-color: #3B4455;\n",
              "      --disabled-fill-color: #666;\n",
              "  }\n",
              "\n",
              "  .colab-df-quickchart {\n",
              "    background-color: var(--bg-color);\n",
              "    border: none;\n",
              "    border-radius: 50%;\n",
              "    cursor: pointer;\n",
              "    display: none;\n",
              "    fill: var(--fill-color);\n",
              "    height: 32px;\n",
              "    padding: 0;\n",
              "    width: 32px;\n",
              "  }\n",
              "\n",
              "  .colab-df-quickchart:hover {\n",
              "    background-color: var(--hover-bg-color);\n",
              "    box-shadow: 0 1px 2px rgba(60, 64, 67, 0.3), 0 1px 3px 1px rgba(60, 64, 67, 0.15);\n",
              "    fill: var(--button-hover-fill-color);\n",
              "  }\n",
              "\n",
              "  .colab-df-quickchart-complete:disabled,\n",
              "  .colab-df-quickchart-complete:disabled:hover {\n",
              "    background-color: var(--disabled-bg-color);\n",
              "    fill: var(--disabled-fill-color);\n",
              "    box-shadow: none;\n",
              "  }\n",
              "\n",
              "  .colab-df-spinner {\n",
              "    border: 2px solid var(--fill-color);\n",
              "    border-color: transparent;\n",
              "    border-bottom-color: var(--fill-color);\n",
              "    animation:\n",
              "      spin 1s steps(1) infinite;\n",
              "  }\n",
              "\n",
              "  @keyframes spin {\n",
              "    0% {\n",
              "      border-color: transparent;\n",
              "      border-bottom-color: var(--fill-color);\n",
              "      border-left-color: var(--fill-color);\n",
              "    }\n",
              "    20% {\n",
              "      border-color: transparent;\n",
              "      border-left-color: var(--fill-color);\n",
              "      border-top-color: var(--fill-color);\n",
              "    }\n",
              "    30% {\n",
              "      border-color: transparent;\n",
              "      border-left-color: var(--fill-color);\n",
              "      border-top-color: var(--fill-color);\n",
              "      border-right-color: var(--fill-color);\n",
              "    }\n",
              "    40% {\n",
              "      border-color: transparent;\n",
              "      border-right-color: var(--fill-color);\n",
              "      border-top-color: var(--fill-color);\n",
              "    }\n",
              "    60% {\n",
              "      border-color: transparent;\n",
              "      border-right-color: var(--fill-color);\n",
              "    }\n",
              "    80% {\n",
              "      border-color: transparent;\n",
              "      border-right-color: var(--fill-color);\n",
              "      border-bottom-color: var(--fill-color);\n",
              "    }\n",
              "    90% {\n",
              "      border-color: transparent;\n",
              "      border-bottom-color: var(--fill-color);\n",
              "    }\n",
              "  }\n",
              "</style>\n",
              "\n",
              "  <script>\n",
              "    async function quickchart(key) {\n",
              "      const quickchartButtonEl =\n",
              "        document.querySelector('#' + key + ' button');\n",
              "      quickchartButtonEl.disabled = true;  // To prevent multiple clicks.\n",
              "      quickchartButtonEl.classList.add('colab-df-spinner');\n",
              "      try {\n",
              "        const charts = await google.colab.kernel.invokeFunction(\n",
              "            'suggestCharts', [key], {});\n",
              "      } catch (error) {\n",
              "        console.error('Error during call to suggestCharts:', error);\n",
              "      }\n",
              "      quickchartButtonEl.classList.remove('colab-df-spinner');\n",
              "      quickchartButtonEl.classList.add('colab-df-quickchart-complete');\n",
              "    }\n",
              "    (() => {\n",
              "      let quickchartButtonEl =\n",
              "        document.querySelector('#df-d9c49883-6c99-4ee8-9a45-5ce0f3299838 button');\n",
              "      quickchartButtonEl.style.display =\n",
              "        google.colab.kernel.accessAllowed ? 'block' : 'none';\n",
              "    })();\n",
              "  </script>\n",
              "</div>\n",
              "    </div>\n",
              "  </div>\n"
            ]
          },
          "metadata": {},
          "execution_count": 7
        }
      ]
    },
    {
      "cell_type": "code",
      "source": [
        "data['label'].value_counts()"
      ],
      "metadata": {
        "colab": {
          "base_uri": "https://localhost:8080/"
        },
        "id": "DqWBykefgA6n",
        "outputId": "4c9fa404-63db-47dd-8398-e26a00eb64ea"
      },
      "execution_count": 8,
      "outputs": [
        {
          "output_type": "execute_result",
          "data": {
            "text/plain": [
              "0    5894\n",
              "1    2026\n",
              "Name: label, dtype: int64"
            ]
          },
          "metadata": {},
          "execution_count": 8
        }
      ]
    },
    {
      "cell_type": "code",
      "source": [
        "#data preprocessing\n",
        "\n",
        "from nltk.corpus import stopwords\n",
        "from nltk.stem import PorterStemmer\n",
        "from nltk.tokenize import word_tokenize\n",
        "import re\n"
      ],
      "metadata": {
        "id": "IWv1aW2eiAqf"
      },
      "execution_count": 9,
      "outputs": []
    },
    {
      "cell_type": "code",
      "source": [
        "# Handling missing values\n",
        "data.dropna(inplace=True)"
      ],
      "metadata": {
        "id": "t6dXtB7ojXBl"
      },
      "execution_count": 10,
      "outputs": []
    },
    {
      "cell_type": "code",
      "source": [
        "#data cleaning\n",
        "# Remove unnecessary characters, punctuation, and special symbols\n",
        "\n",
        "\n",
        "def remove_tags(raw_text):\n",
        "    cleaned_text = re.sub(r'[^a-zA-Z\\s]', '', raw_text)\n",
        "    return cleaned_text\n",
        "\n",
        "data['tweet'] = data['tweet'].apply(remove_tags)"
      ],
      "metadata": {
        "id": "_fUjNw_bjW-_"
      },
      "execution_count": 12,
      "outputs": []
    },
    {
      "cell_type": "code",
      "source": [
        "data['tweet'][1]"
      ],
      "metadata": {
        "colab": {
          "base_uri": "https://localhost:8080/",
          "height": 53
        },
        "id": "cvIZKDcWmomi",
        "outputId": "5025cd42-729f-43e1-dd1d-02e6509f654f"
      },
      "execution_count": 13,
      "outputs": [
        {
          "output_type": "execute_result",
          "data": {
            "text/plain": [
              "'Finally a transparant silicon case  Thanks to my uncle  yay Sony Xperia S sonyexperias httpinstagramcompYGEtJCJM'"
            ],
            "application/vnd.google.colaboratory.intrinsic+json": {
              "type": "string"
            }
          },
          "metadata": {},
          "execution_count": 13
        }
      ]
    },
    {
      "cell_type": "code",
      "source": [
        "#Lower Casing\n",
        "\n",
        "data['tweet'] = data['tweet'].apply(lambda x:x.lower())"
      ],
      "metadata": {
        "id": "xI7DyF9Un1ne"
      },
      "execution_count": 14,
      "outputs": []
    },
    {
      "cell_type": "code",
      "source": [
        "import spacy\n",
        "import string\n",
        "from sklearn.feature_extraction.text import TfidfTransformer\n",
        "from sklearn.feature_extraction.text import TfidfVectorizer\n",
        "\n"
      ],
      "metadata": {
        "id": "zJF4w0MHohu6"
      },
      "execution_count": 36,
      "outputs": []
    },
    {
      "cell_type": "code",
      "source": [
        "#removing punctuation\n",
        "\n",
        "PUNCT_TO_REMOVE = string.punctuation\n",
        "def remove_punctuation(text):\n",
        "    \"\"\"custom function to remove the punctuation\"\"\"\n",
        "    return text.translate(str.maketrans('', '', PUNCT_TO_REMOVE))\n",
        "\n",
        "\n",
        "data['tweet'] = data['tweet'].apply(lambda text: remove_punctuation(text))"
      ],
      "metadata": {
        "id": "MpmUrOX-oOac"
      },
      "execution_count": 16,
      "outputs": []
    },
    {
      "cell_type": "code",
      "source": [
        "data['tweet'][1]"
      ],
      "metadata": {
        "colab": {
          "base_uri": "https://localhost:8080/",
          "height": 53
        },
        "id": "gQOZw-Y5pAiv",
        "outputId": "65ba2147-9801-448f-bf96-7071f9ab0a3b"
      },
      "execution_count": 96,
      "outputs": [
        {
          "output_type": "execute_result",
          "data": {
            "text/plain": [
              "'finally transparant silicon case thanks uncle yay sony xperia sonyexperias httpinstagramcompygetjcjm'"
            ],
            "application/vnd.google.colaboratory.intrinsic+json": {
              "type": "string"
            }
          },
          "metadata": {},
          "execution_count": 96
        }
      ]
    },
    {
      "cell_type": "code",
      "source": [
        "#Removing stopwords"
      ],
      "metadata": {
        "id": "tLAGlYMqDyRR"
      },
      "execution_count": 97,
      "outputs": []
    },
    {
      "cell_type": "code",
      "source": [
        "import nltk\n",
        "from nltk.corpus import stopwords\n",
        "nltk.download('stopwords')"
      ],
      "metadata": {
        "colab": {
          "base_uri": "https://localhost:8080/"
        },
        "id": "4Re-OQ5hqU5B",
        "outputId": "03649f9e-5573-4bc1-c751-48617f17c850"
      },
      "execution_count": 23,
      "outputs": [
        {
          "output_type": "stream",
          "name": "stderr",
          "text": [
            "[nltk_data] Downloading package stopwords to /root/nltk_data...\n",
            "[nltk_data]   Unzipping corpora/stopwords.zip.\n"
          ]
        },
        {
          "output_type": "execute_result",
          "data": {
            "text/plain": [
              "True"
            ]
          },
          "metadata": {},
          "execution_count": 23
        }
      ]
    },
    {
      "cell_type": "code",
      "source": [
        "stop_words = set(stopwords.words('english'))\n"
      ],
      "metadata": {
        "id": "mIGo4haBqQI2"
      },
      "execution_count": 98,
      "outputs": []
    },
    {
      "cell_type": "code",
      "source": [
        "data['tweet'] = data['tweet'].apply(lambda x: [item for item in x.split() if item not in stop_words]).apply(lambda x:\" \".join(x))\n"
      ],
      "metadata": {
        "id": "Xr3u8COqpAgJ"
      },
      "execution_count": 99,
      "outputs": []
    },
    {
      "cell_type": "code",
      "source": [
        "data.head()"
      ],
      "metadata": {
        "colab": {
          "base_uri": "https://localhost:8080/",
          "height": 276
        },
        "id": "vGJ6DBbipAdi",
        "outputId": "e19129f3-5320-4b55-ab1c-07d57e9d5998"
      },
      "execution_count": 100,
      "outputs": [
        {
          "output_type": "execute_result",
          "data": {
            "text/plain": [
              "   id  label  \\\n",
              "0   1      0   \n",
              "1   2      0   \n",
              "2   3      0   \n",
              "3   4      0   \n",
              "4   5      1   \n",
              "\n",
              "                                                                                                             tweet  \n",
              "0  fingerprint pregnancy test httpsgooglhmfqv android apps beautiful cute health igers iphoneonly iphonesia iphone  \n",
              "1             finally transparant silicon case thanks uncle yay sony xperia sonyexperias httpinstagramcompygetjcjm  \n",
              "2                      love would go talk makememories unplug relax iphone smartphone wifi connect httpfbmenlsupcu  \n",
              "3                                  im wired know im george made way iphone cute daventry home httpinstagrampliujsk  \n",
              "4                                          amazing service apple wont even talk question unless pay stupid support  "
            ],
            "text/html": [
              "\n",
              "  <div id=\"df-8cef23cf-dac4-44f6-b616-5c5145f8b561\" class=\"colab-df-container\">\n",
              "    <div>\n",
              "<style scoped>\n",
              "    .dataframe tbody tr th:only-of-type {\n",
              "        vertical-align: middle;\n",
              "    }\n",
              "\n",
              "    .dataframe tbody tr th {\n",
              "        vertical-align: top;\n",
              "    }\n",
              "\n",
              "    .dataframe thead th {\n",
              "        text-align: right;\n",
              "    }\n",
              "</style>\n",
              "<table border=\"1\" class=\"dataframe\">\n",
              "  <thead>\n",
              "    <tr style=\"text-align: right;\">\n",
              "      <th></th>\n",
              "      <th>id</th>\n",
              "      <th>label</th>\n",
              "      <th>tweet</th>\n",
              "    </tr>\n",
              "  </thead>\n",
              "  <tbody>\n",
              "    <tr>\n",
              "      <th>0</th>\n",
              "      <td>1</td>\n",
              "      <td>0</td>\n",
              "      <td>fingerprint pregnancy test httpsgooglhmfqv android apps beautiful cute health igers iphoneonly iphonesia iphone</td>\n",
              "    </tr>\n",
              "    <tr>\n",
              "      <th>1</th>\n",
              "      <td>2</td>\n",
              "      <td>0</td>\n",
              "      <td>finally transparant silicon case thanks uncle yay sony xperia sonyexperias httpinstagramcompygetjcjm</td>\n",
              "    </tr>\n",
              "    <tr>\n",
              "      <th>2</th>\n",
              "      <td>3</td>\n",
              "      <td>0</td>\n",
              "      <td>love would go talk makememories unplug relax iphone smartphone wifi connect httpfbmenlsupcu</td>\n",
              "    </tr>\n",
              "    <tr>\n",
              "      <th>3</th>\n",
              "      <td>4</td>\n",
              "      <td>0</td>\n",
              "      <td>im wired know im george made way iphone cute daventry home httpinstagrampliujsk</td>\n",
              "    </tr>\n",
              "    <tr>\n",
              "      <th>4</th>\n",
              "      <td>5</td>\n",
              "      <td>1</td>\n",
              "      <td>amazing service apple wont even talk question unless pay stupid support</td>\n",
              "    </tr>\n",
              "  </tbody>\n",
              "</table>\n",
              "</div>\n",
              "    <div class=\"colab-df-buttons\">\n",
              "\n",
              "  <div class=\"colab-df-container\">\n",
              "    <button class=\"colab-df-convert\" onclick=\"convertToInteractive('df-8cef23cf-dac4-44f6-b616-5c5145f8b561')\"\n",
              "            title=\"Convert this dataframe to an interactive table.\"\n",
              "            style=\"display:none;\">\n",
              "\n",
              "  <svg xmlns=\"http://www.w3.org/2000/svg\" height=\"24px\" viewBox=\"0 -960 960 960\">\n",
              "    <path d=\"M120-120v-720h720v720H120Zm60-500h600v-160H180v160Zm220 220h160v-160H400v160Zm0 220h160v-160H400v160ZM180-400h160v-160H180v160Zm440 0h160v-160H620v160ZM180-180h160v-160H180v160Zm440 0h160v-160H620v160Z\"/>\n",
              "  </svg>\n",
              "    </button>\n",
              "\n",
              "  <style>\n",
              "    .colab-df-container {\n",
              "      display:flex;\n",
              "      gap: 12px;\n",
              "    }\n",
              "\n",
              "    .colab-df-convert {\n",
              "      background-color: #E8F0FE;\n",
              "      border: none;\n",
              "      border-radius: 50%;\n",
              "      cursor: pointer;\n",
              "      display: none;\n",
              "      fill: #1967D2;\n",
              "      height: 32px;\n",
              "      padding: 0 0 0 0;\n",
              "      width: 32px;\n",
              "    }\n",
              "\n",
              "    .colab-df-convert:hover {\n",
              "      background-color: #E2EBFA;\n",
              "      box-shadow: 0px 1px 2px rgba(60, 64, 67, 0.3), 0px 1px 3px 1px rgba(60, 64, 67, 0.15);\n",
              "      fill: #174EA6;\n",
              "    }\n",
              "\n",
              "    .colab-df-buttons div {\n",
              "      margin-bottom: 4px;\n",
              "    }\n",
              "\n",
              "    [theme=dark] .colab-df-convert {\n",
              "      background-color: #3B4455;\n",
              "      fill: #D2E3FC;\n",
              "    }\n",
              "\n",
              "    [theme=dark] .colab-df-convert:hover {\n",
              "      background-color: #434B5C;\n",
              "      box-shadow: 0px 1px 3px 1px rgba(0, 0, 0, 0.15);\n",
              "      filter: drop-shadow(0px 1px 2px rgba(0, 0, 0, 0.3));\n",
              "      fill: #FFFFFF;\n",
              "    }\n",
              "  </style>\n",
              "\n",
              "    <script>\n",
              "      const buttonEl =\n",
              "        document.querySelector('#df-8cef23cf-dac4-44f6-b616-5c5145f8b561 button.colab-df-convert');\n",
              "      buttonEl.style.display =\n",
              "        google.colab.kernel.accessAllowed ? 'block' : 'none';\n",
              "\n",
              "      async function convertToInteractive(key) {\n",
              "        const element = document.querySelector('#df-8cef23cf-dac4-44f6-b616-5c5145f8b561');\n",
              "        const dataTable =\n",
              "          await google.colab.kernel.invokeFunction('convertToInteractive',\n",
              "                                                    [key], {});\n",
              "        if (!dataTable) return;\n",
              "\n",
              "        const docLinkHtml = 'Like what you see? Visit the ' +\n",
              "          '<a target=\"_blank\" href=https://colab.research.google.com/notebooks/data_table.ipynb>data table notebook</a>'\n",
              "          + ' to learn more about interactive tables.';\n",
              "        element.innerHTML = '';\n",
              "        dataTable['output_type'] = 'display_data';\n",
              "        await google.colab.output.renderOutput(dataTable, element);\n",
              "        const docLink = document.createElement('div');\n",
              "        docLink.innerHTML = docLinkHtml;\n",
              "        element.appendChild(docLink);\n",
              "      }\n",
              "    </script>\n",
              "  </div>\n",
              "\n",
              "\n",
              "<div id=\"df-d34e70d4-c49e-4541-9788-fb251995b684\">\n",
              "  <button class=\"colab-df-quickchart\" onclick=\"quickchart('df-d34e70d4-c49e-4541-9788-fb251995b684')\"\n",
              "            title=\"Suggest charts\"\n",
              "            style=\"display:none;\">\n",
              "\n",
              "<svg xmlns=\"http://www.w3.org/2000/svg\" height=\"24px\"viewBox=\"0 0 24 24\"\n",
              "     width=\"24px\">\n",
              "    <g>\n",
              "        <path d=\"M19 3H5c-1.1 0-2 .9-2 2v14c0 1.1.9 2 2 2h14c1.1 0 2-.9 2-2V5c0-1.1-.9-2-2-2zM9 17H7v-7h2v7zm4 0h-2V7h2v10zm4 0h-2v-4h2v4z\"/>\n",
              "    </g>\n",
              "</svg>\n",
              "  </button>\n",
              "\n",
              "<style>\n",
              "  .colab-df-quickchart {\n",
              "      --bg-color: #E8F0FE;\n",
              "      --fill-color: #1967D2;\n",
              "      --hover-bg-color: #E2EBFA;\n",
              "      --hover-fill-color: #174EA6;\n",
              "      --disabled-fill-color: #AAA;\n",
              "      --disabled-bg-color: #DDD;\n",
              "  }\n",
              "\n",
              "  [theme=dark] .colab-df-quickchart {\n",
              "      --bg-color: #3B4455;\n",
              "      --fill-color: #D2E3FC;\n",
              "      --hover-bg-color: #434B5C;\n",
              "      --hover-fill-color: #FFFFFF;\n",
              "      --disabled-bg-color: #3B4455;\n",
              "      --disabled-fill-color: #666;\n",
              "  }\n",
              "\n",
              "  .colab-df-quickchart {\n",
              "    background-color: var(--bg-color);\n",
              "    border: none;\n",
              "    border-radius: 50%;\n",
              "    cursor: pointer;\n",
              "    display: none;\n",
              "    fill: var(--fill-color);\n",
              "    height: 32px;\n",
              "    padding: 0;\n",
              "    width: 32px;\n",
              "  }\n",
              "\n",
              "  .colab-df-quickchart:hover {\n",
              "    background-color: var(--hover-bg-color);\n",
              "    box-shadow: 0 1px 2px rgba(60, 64, 67, 0.3), 0 1px 3px 1px rgba(60, 64, 67, 0.15);\n",
              "    fill: var(--button-hover-fill-color);\n",
              "  }\n",
              "\n",
              "  .colab-df-quickchart-complete:disabled,\n",
              "  .colab-df-quickchart-complete:disabled:hover {\n",
              "    background-color: var(--disabled-bg-color);\n",
              "    fill: var(--disabled-fill-color);\n",
              "    box-shadow: none;\n",
              "  }\n",
              "\n",
              "  .colab-df-spinner {\n",
              "    border: 2px solid var(--fill-color);\n",
              "    border-color: transparent;\n",
              "    border-bottom-color: var(--fill-color);\n",
              "    animation:\n",
              "      spin 1s steps(1) infinite;\n",
              "  }\n",
              "\n",
              "  @keyframes spin {\n",
              "    0% {\n",
              "      border-color: transparent;\n",
              "      border-bottom-color: var(--fill-color);\n",
              "      border-left-color: var(--fill-color);\n",
              "    }\n",
              "    20% {\n",
              "      border-color: transparent;\n",
              "      border-left-color: var(--fill-color);\n",
              "      border-top-color: var(--fill-color);\n",
              "    }\n",
              "    30% {\n",
              "      border-color: transparent;\n",
              "      border-left-color: var(--fill-color);\n",
              "      border-top-color: var(--fill-color);\n",
              "      border-right-color: var(--fill-color);\n",
              "    }\n",
              "    40% {\n",
              "      border-color: transparent;\n",
              "      border-right-color: var(--fill-color);\n",
              "      border-top-color: var(--fill-color);\n",
              "    }\n",
              "    60% {\n",
              "      border-color: transparent;\n",
              "      border-right-color: var(--fill-color);\n",
              "    }\n",
              "    80% {\n",
              "      border-color: transparent;\n",
              "      border-right-color: var(--fill-color);\n",
              "      border-bottom-color: var(--fill-color);\n",
              "    }\n",
              "    90% {\n",
              "      border-color: transparent;\n",
              "      border-bottom-color: var(--fill-color);\n",
              "    }\n",
              "  }\n",
              "</style>\n",
              "\n",
              "  <script>\n",
              "    async function quickchart(key) {\n",
              "      const quickchartButtonEl =\n",
              "        document.querySelector('#' + key + ' button');\n",
              "      quickchartButtonEl.disabled = true;  // To prevent multiple clicks.\n",
              "      quickchartButtonEl.classList.add('colab-df-spinner');\n",
              "      try {\n",
              "        const charts = await google.colab.kernel.invokeFunction(\n",
              "            'suggestCharts', [key], {});\n",
              "      } catch (error) {\n",
              "        console.error('Error during call to suggestCharts:', error);\n",
              "      }\n",
              "      quickchartButtonEl.classList.remove('colab-df-spinner');\n",
              "      quickchartButtonEl.classList.add('colab-df-quickchart-complete');\n",
              "    }\n",
              "    (() => {\n",
              "      let quickchartButtonEl =\n",
              "        document.querySelector('#df-d34e70d4-c49e-4541-9788-fb251995b684 button');\n",
              "      quickchartButtonEl.style.display =\n",
              "        google.colab.kernel.accessAllowed ? 'block' : 'none';\n",
              "    })();\n",
              "  </script>\n",
              "</div>\n",
              "    </div>\n",
              "  </div>\n"
            ]
          },
          "metadata": {},
          "execution_count": 100
        }
      ]
    },
    {
      "cell_type": "code",
      "source": [
        "#lemmatization"
      ],
      "metadata": {
        "id": "x9klpY7UEI3K"
      },
      "execution_count": 27,
      "outputs": []
    },
    {
      "cell_type": "code",
      "source": [
        "import nltk\n",
        "nltk.download('wordnet')"
      ],
      "metadata": {
        "colab": {
          "base_uri": "https://localhost:8080/"
        },
        "id": "-Xn8LdSLpAac",
        "outputId": "40ec568d-02b8-4267-aaac-491ec4b2425f"
      },
      "execution_count": 28,
      "outputs": [
        {
          "output_type": "stream",
          "name": "stderr",
          "text": [
            "[nltk_data] Downloading package wordnet to /root/nltk_data...\n"
          ]
        },
        {
          "output_type": "execute_result",
          "data": {
            "text/plain": [
              "True"
            ]
          },
          "metadata": {},
          "execution_count": 28
        }
      ]
    },
    {
      "cell_type": "code",
      "source": [
        "from nltk.stem import WordNetLemmatizer\n",
        "\n",
        "lemmatizer = WordNetLemmatizer()\n",
        "def lemmatize_words(text):\n",
        "    return \" \".join([lemmatizer.lemmatize(word) for word in text.split()])\n",
        "\n",
        "data[\"tweet\"] = data[\"tweet\"].apply(lambda text: lemmatize_words(text))\n",
        "data.head()"
      ],
      "metadata": {
        "colab": {
          "base_uri": "https://localhost:8080/",
          "height": 206
        },
        "id": "ZSUEr2ElEUtc",
        "outputId": "2539ea15-544c-4a35-9da7-709d090a7d10"
      },
      "execution_count": 30,
      "outputs": [
        {
          "output_type": "execute_result",
          "data": {
            "text/plain": [
              "   id  label                                              tweet\n",
              "0   1      0  fingerprint pregnancy test httpsgooglhmfqv and...\n",
              "1   2      0  finally transparant silicon case thanks uncle ...\n",
              "2   3      0  love would go talk makememories unplug relax i...\n",
              "3   4      0  im wired know im george made way iphone cute d...\n",
              "4   5      1  amazing service apple wont even talk question ..."
            ],
            "text/html": [
              "\n",
              "  <div id=\"df-68fe3f8a-db97-4df9-95ec-51aeacf50b82\" class=\"colab-df-container\">\n",
              "    <div>\n",
              "<style scoped>\n",
              "    .dataframe tbody tr th:only-of-type {\n",
              "        vertical-align: middle;\n",
              "    }\n",
              "\n",
              "    .dataframe tbody tr th {\n",
              "        vertical-align: top;\n",
              "    }\n",
              "\n",
              "    .dataframe thead th {\n",
              "        text-align: right;\n",
              "    }\n",
              "</style>\n",
              "<table border=\"1\" class=\"dataframe\">\n",
              "  <thead>\n",
              "    <tr style=\"text-align: right;\">\n",
              "      <th></th>\n",
              "      <th>id</th>\n",
              "      <th>label</th>\n",
              "      <th>tweet</th>\n",
              "    </tr>\n",
              "  </thead>\n",
              "  <tbody>\n",
              "    <tr>\n",
              "      <th>0</th>\n",
              "      <td>1</td>\n",
              "      <td>0</td>\n",
              "      <td>fingerprint pregnancy test httpsgooglhmfqv and...</td>\n",
              "    </tr>\n",
              "    <tr>\n",
              "      <th>1</th>\n",
              "      <td>2</td>\n",
              "      <td>0</td>\n",
              "      <td>finally transparant silicon case thanks uncle ...</td>\n",
              "    </tr>\n",
              "    <tr>\n",
              "      <th>2</th>\n",
              "      <td>3</td>\n",
              "      <td>0</td>\n",
              "      <td>love would go talk makememories unplug relax i...</td>\n",
              "    </tr>\n",
              "    <tr>\n",
              "      <th>3</th>\n",
              "      <td>4</td>\n",
              "      <td>0</td>\n",
              "      <td>im wired know im george made way iphone cute d...</td>\n",
              "    </tr>\n",
              "    <tr>\n",
              "      <th>4</th>\n",
              "      <td>5</td>\n",
              "      <td>1</td>\n",
              "      <td>amazing service apple wont even talk question ...</td>\n",
              "    </tr>\n",
              "  </tbody>\n",
              "</table>\n",
              "</div>\n",
              "    <div class=\"colab-df-buttons\">\n",
              "\n",
              "  <div class=\"colab-df-container\">\n",
              "    <button class=\"colab-df-convert\" onclick=\"convertToInteractive('df-68fe3f8a-db97-4df9-95ec-51aeacf50b82')\"\n",
              "            title=\"Convert this dataframe to an interactive table.\"\n",
              "            style=\"display:none;\">\n",
              "\n",
              "  <svg xmlns=\"http://www.w3.org/2000/svg\" height=\"24px\" viewBox=\"0 -960 960 960\">\n",
              "    <path d=\"M120-120v-720h720v720H120Zm60-500h600v-160H180v160Zm220 220h160v-160H400v160Zm0 220h160v-160H400v160ZM180-400h160v-160H180v160Zm440 0h160v-160H620v160ZM180-180h160v-160H180v160Zm440 0h160v-160H620v160Z\"/>\n",
              "  </svg>\n",
              "    </button>\n",
              "\n",
              "  <style>\n",
              "    .colab-df-container {\n",
              "      display:flex;\n",
              "      gap: 12px;\n",
              "    }\n",
              "\n",
              "    .colab-df-convert {\n",
              "      background-color: #E8F0FE;\n",
              "      border: none;\n",
              "      border-radius: 50%;\n",
              "      cursor: pointer;\n",
              "      display: none;\n",
              "      fill: #1967D2;\n",
              "      height: 32px;\n",
              "      padding: 0 0 0 0;\n",
              "      width: 32px;\n",
              "    }\n",
              "\n",
              "    .colab-df-convert:hover {\n",
              "      background-color: #E2EBFA;\n",
              "      box-shadow: 0px 1px 2px rgba(60, 64, 67, 0.3), 0px 1px 3px 1px rgba(60, 64, 67, 0.15);\n",
              "      fill: #174EA6;\n",
              "    }\n",
              "\n",
              "    .colab-df-buttons div {\n",
              "      margin-bottom: 4px;\n",
              "    }\n",
              "\n",
              "    [theme=dark] .colab-df-convert {\n",
              "      background-color: #3B4455;\n",
              "      fill: #D2E3FC;\n",
              "    }\n",
              "\n",
              "    [theme=dark] .colab-df-convert:hover {\n",
              "      background-color: #434B5C;\n",
              "      box-shadow: 0px 1px 3px 1px rgba(0, 0, 0, 0.15);\n",
              "      filter: drop-shadow(0px 1px 2px rgba(0, 0, 0, 0.3));\n",
              "      fill: #FFFFFF;\n",
              "    }\n",
              "  </style>\n",
              "\n",
              "    <script>\n",
              "      const buttonEl =\n",
              "        document.querySelector('#df-68fe3f8a-db97-4df9-95ec-51aeacf50b82 button.colab-df-convert');\n",
              "      buttonEl.style.display =\n",
              "        google.colab.kernel.accessAllowed ? 'block' : 'none';\n",
              "\n",
              "      async function convertToInteractive(key) {\n",
              "        const element = document.querySelector('#df-68fe3f8a-db97-4df9-95ec-51aeacf50b82');\n",
              "        const dataTable =\n",
              "          await google.colab.kernel.invokeFunction('convertToInteractive',\n",
              "                                                    [key], {});\n",
              "        if (!dataTable) return;\n",
              "\n",
              "        const docLinkHtml = 'Like what you see? Visit the ' +\n",
              "          '<a target=\"_blank\" href=https://colab.research.google.com/notebooks/data_table.ipynb>data table notebook</a>'\n",
              "          + ' to learn more about interactive tables.';\n",
              "        element.innerHTML = '';\n",
              "        dataTable['output_type'] = 'display_data';\n",
              "        await google.colab.output.renderOutput(dataTable, element);\n",
              "        const docLink = document.createElement('div');\n",
              "        docLink.innerHTML = docLinkHtml;\n",
              "        element.appendChild(docLink);\n",
              "      }\n",
              "    </script>\n",
              "  </div>\n",
              "\n",
              "\n",
              "<div id=\"df-a96131d9-b78d-4e36-a104-f054199e3b1a\">\n",
              "  <button class=\"colab-df-quickchart\" onclick=\"quickchart('df-a96131d9-b78d-4e36-a104-f054199e3b1a')\"\n",
              "            title=\"Suggest charts\"\n",
              "            style=\"display:none;\">\n",
              "\n",
              "<svg xmlns=\"http://www.w3.org/2000/svg\" height=\"24px\"viewBox=\"0 0 24 24\"\n",
              "     width=\"24px\">\n",
              "    <g>\n",
              "        <path d=\"M19 3H5c-1.1 0-2 .9-2 2v14c0 1.1.9 2 2 2h14c1.1 0 2-.9 2-2V5c0-1.1-.9-2-2-2zM9 17H7v-7h2v7zm4 0h-2V7h2v10zm4 0h-2v-4h2v4z\"/>\n",
              "    </g>\n",
              "</svg>\n",
              "  </button>\n",
              "\n",
              "<style>\n",
              "  .colab-df-quickchart {\n",
              "      --bg-color: #E8F0FE;\n",
              "      --fill-color: #1967D2;\n",
              "      --hover-bg-color: #E2EBFA;\n",
              "      --hover-fill-color: #174EA6;\n",
              "      --disabled-fill-color: #AAA;\n",
              "      --disabled-bg-color: #DDD;\n",
              "  }\n",
              "\n",
              "  [theme=dark] .colab-df-quickchart {\n",
              "      --bg-color: #3B4455;\n",
              "      --fill-color: #D2E3FC;\n",
              "      --hover-bg-color: #434B5C;\n",
              "      --hover-fill-color: #FFFFFF;\n",
              "      --disabled-bg-color: #3B4455;\n",
              "      --disabled-fill-color: #666;\n",
              "  }\n",
              "\n",
              "  .colab-df-quickchart {\n",
              "    background-color: var(--bg-color);\n",
              "    border: none;\n",
              "    border-radius: 50%;\n",
              "    cursor: pointer;\n",
              "    display: none;\n",
              "    fill: var(--fill-color);\n",
              "    height: 32px;\n",
              "    padding: 0;\n",
              "    width: 32px;\n",
              "  }\n",
              "\n",
              "  .colab-df-quickchart:hover {\n",
              "    background-color: var(--hover-bg-color);\n",
              "    box-shadow: 0 1px 2px rgba(60, 64, 67, 0.3), 0 1px 3px 1px rgba(60, 64, 67, 0.15);\n",
              "    fill: var(--button-hover-fill-color);\n",
              "  }\n",
              "\n",
              "  .colab-df-quickchart-complete:disabled,\n",
              "  .colab-df-quickchart-complete:disabled:hover {\n",
              "    background-color: var(--disabled-bg-color);\n",
              "    fill: var(--disabled-fill-color);\n",
              "    box-shadow: none;\n",
              "  }\n",
              "\n",
              "  .colab-df-spinner {\n",
              "    border: 2px solid var(--fill-color);\n",
              "    border-color: transparent;\n",
              "    border-bottom-color: var(--fill-color);\n",
              "    animation:\n",
              "      spin 1s steps(1) infinite;\n",
              "  }\n",
              "\n",
              "  @keyframes spin {\n",
              "    0% {\n",
              "      border-color: transparent;\n",
              "      border-bottom-color: var(--fill-color);\n",
              "      border-left-color: var(--fill-color);\n",
              "    }\n",
              "    20% {\n",
              "      border-color: transparent;\n",
              "      border-left-color: var(--fill-color);\n",
              "      border-top-color: var(--fill-color);\n",
              "    }\n",
              "    30% {\n",
              "      border-color: transparent;\n",
              "      border-left-color: var(--fill-color);\n",
              "      border-top-color: var(--fill-color);\n",
              "      border-right-color: var(--fill-color);\n",
              "    }\n",
              "    40% {\n",
              "      border-color: transparent;\n",
              "      border-right-color: var(--fill-color);\n",
              "      border-top-color: var(--fill-color);\n",
              "    }\n",
              "    60% {\n",
              "      border-color: transparent;\n",
              "      border-right-color: var(--fill-color);\n",
              "    }\n",
              "    80% {\n",
              "      border-color: transparent;\n",
              "      border-right-color: var(--fill-color);\n",
              "      border-bottom-color: var(--fill-color);\n",
              "    }\n",
              "    90% {\n",
              "      border-color: transparent;\n",
              "      border-bottom-color: var(--fill-color);\n",
              "    }\n",
              "  }\n",
              "</style>\n",
              "\n",
              "  <script>\n",
              "    async function quickchart(key) {\n",
              "      const quickchartButtonEl =\n",
              "        document.querySelector('#' + key + ' button');\n",
              "      quickchartButtonEl.disabled = true;  // To prevent multiple clicks.\n",
              "      quickchartButtonEl.classList.add('colab-df-spinner');\n",
              "      try {\n",
              "        const charts = await google.colab.kernel.invokeFunction(\n",
              "            'suggestCharts', [key], {});\n",
              "      } catch (error) {\n",
              "        console.error('Error during call to suggestCharts:', error);\n",
              "      }\n",
              "      quickchartButtonEl.classList.remove('colab-df-spinner');\n",
              "      quickchartButtonEl.classList.add('colab-df-quickchart-complete');\n",
              "    }\n",
              "    (() => {\n",
              "      let quickchartButtonEl =\n",
              "        document.querySelector('#df-a96131d9-b78d-4e36-a104-f054199e3b1a button');\n",
              "      quickchartButtonEl.style.display =\n",
              "        google.colab.kernel.accessAllowed ? 'block' : 'none';\n",
              "    })();\n",
              "  </script>\n",
              "</div>\n",
              "    </div>\n",
              "  </div>\n"
            ]
          },
          "metadata": {},
          "execution_count": 30
        }
      ]
    },
    {
      "cell_type": "code",
      "source": [
        "# Tokenization for feature extraction\n",
        "count_vectorizer = CountVectorizer()\n",
        "tokenized_text = count_vectorizer.fit_transform(data['tweet'])\n",
        "tfidf_transformer = TfidfTransformer()\n",
        "tfidf_matrix = tfidf_transformer.fit_transform(tokenized_text)\n"
      ],
      "metadata": {
        "id": "AW5pBXerjW7V"
      },
      "execution_count": 35,
      "outputs": []
    },
    {
      "cell_type": "code",
      "source": [
        "x = data.iloc[:,2:3]\n",
        "x.head()"
      ],
      "metadata": {
        "colab": {
          "base_uri": "https://localhost:8080/",
          "height": 258
        },
        "id": "PhfdONygBinH",
        "outputId": "209642d4-a365-47b2-c483-5c9eb6805e44"
      },
      "execution_count": 110,
      "outputs": [
        {
          "output_type": "execute_result",
          "data": {
            "text/plain": [
              "                                                                                                             tweet\n",
              "0  fingerprint pregnancy test httpsgooglhmfqv android apps beautiful cute health igers iphoneonly iphonesia iphone\n",
              "1             finally transparant silicon case thanks uncle yay sony xperia sonyexperias httpinstagramcompygetjcjm\n",
              "2                      love would go talk makememories unplug relax iphone smartphone wifi connect httpfbmenlsupcu\n",
              "3                                  im wired know im george made way iphone cute daventry home httpinstagrampliujsk\n",
              "4                                          amazing service apple wont even talk question unless pay stupid support"
            ],
            "text/html": [
              "\n",
              "  <div id=\"df-00e922da-ac3f-4e50-988a-b75593afb67c\" class=\"colab-df-container\">\n",
              "    <div>\n",
              "<style scoped>\n",
              "    .dataframe tbody tr th:only-of-type {\n",
              "        vertical-align: middle;\n",
              "    }\n",
              "\n",
              "    .dataframe tbody tr th {\n",
              "        vertical-align: top;\n",
              "    }\n",
              "\n",
              "    .dataframe thead th {\n",
              "        text-align: right;\n",
              "    }\n",
              "</style>\n",
              "<table border=\"1\" class=\"dataframe\">\n",
              "  <thead>\n",
              "    <tr style=\"text-align: right;\">\n",
              "      <th></th>\n",
              "      <th>tweet</th>\n",
              "    </tr>\n",
              "  </thead>\n",
              "  <tbody>\n",
              "    <tr>\n",
              "      <th>0</th>\n",
              "      <td>fingerprint pregnancy test httpsgooglhmfqv android apps beautiful cute health igers iphoneonly iphonesia iphone</td>\n",
              "    </tr>\n",
              "    <tr>\n",
              "      <th>1</th>\n",
              "      <td>finally transparant silicon case thanks uncle yay sony xperia sonyexperias httpinstagramcompygetjcjm</td>\n",
              "    </tr>\n",
              "    <tr>\n",
              "      <th>2</th>\n",
              "      <td>love would go talk makememories unplug relax iphone smartphone wifi connect httpfbmenlsupcu</td>\n",
              "    </tr>\n",
              "    <tr>\n",
              "      <th>3</th>\n",
              "      <td>im wired know im george made way iphone cute daventry home httpinstagrampliujsk</td>\n",
              "    </tr>\n",
              "    <tr>\n",
              "      <th>4</th>\n",
              "      <td>amazing service apple wont even talk question unless pay stupid support</td>\n",
              "    </tr>\n",
              "  </tbody>\n",
              "</table>\n",
              "</div>\n",
              "    <div class=\"colab-df-buttons\">\n",
              "\n",
              "  <div class=\"colab-df-container\">\n",
              "    <button class=\"colab-df-convert\" onclick=\"convertToInteractive('df-00e922da-ac3f-4e50-988a-b75593afb67c')\"\n",
              "            title=\"Convert this dataframe to an interactive table.\"\n",
              "            style=\"display:none;\">\n",
              "\n",
              "  <svg xmlns=\"http://www.w3.org/2000/svg\" height=\"24px\" viewBox=\"0 -960 960 960\">\n",
              "    <path d=\"M120-120v-720h720v720H120Zm60-500h600v-160H180v160Zm220 220h160v-160H400v160Zm0 220h160v-160H400v160ZM180-400h160v-160H180v160Zm440 0h160v-160H620v160ZM180-180h160v-160H180v160Zm440 0h160v-160H620v160Z\"/>\n",
              "  </svg>\n",
              "    </button>\n",
              "\n",
              "  <style>\n",
              "    .colab-df-container {\n",
              "      display:flex;\n",
              "      gap: 12px;\n",
              "    }\n",
              "\n",
              "    .colab-df-convert {\n",
              "      background-color: #E8F0FE;\n",
              "      border: none;\n",
              "      border-radius: 50%;\n",
              "      cursor: pointer;\n",
              "      display: none;\n",
              "      fill: #1967D2;\n",
              "      height: 32px;\n",
              "      padding: 0 0 0 0;\n",
              "      width: 32px;\n",
              "    }\n",
              "\n",
              "    .colab-df-convert:hover {\n",
              "      background-color: #E2EBFA;\n",
              "      box-shadow: 0px 1px 2px rgba(60, 64, 67, 0.3), 0px 1px 3px 1px rgba(60, 64, 67, 0.15);\n",
              "      fill: #174EA6;\n",
              "    }\n",
              "\n",
              "    .colab-df-buttons div {\n",
              "      margin-bottom: 4px;\n",
              "    }\n",
              "\n",
              "    [theme=dark] .colab-df-convert {\n",
              "      background-color: #3B4455;\n",
              "      fill: #D2E3FC;\n",
              "    }\n",
              "\n",
              "    [theme=dark] .colab-df-convert:hover {\n",
              "      background-color: #434B5C;\n",
              "      box-shadow: 0px 1px 3px 1px rgba(0, 0, 0, 0.15);\n",
              "      filter: drop-shadow(0px 1px 2px rgba(0, 0, 0, 0.3));\n",
              "      fill: #FFFFFF;\n",
              "    }\n",
              "  </style>\n",
              "\n",
              "    <script>\n",
              "      const buttonEl =\n",
              "        document.querySelector('#df-00e922da-ac3f-4e50-988a-b75593afb67c button.colab-df-convert');\n",
              "      buttonEl.style.display =\n",
              "        google.colab.kernel.accessAllowed ? 'block' : 'none';\n",
              "\n",
              "      async function convertToInteractive(key) {\n",
              "        const element = document.querySelector('#df-00e922da-ac3f-4e50-988a-b75593afb67c');\n",
              "        const dataTable =\n",
              "          await google.colab.kernel.invokeFunction('convertToInteractive',\n",
              "                                                    [key], {});\n",
              "        if (!dataTable) return;\n",
              "\n",
              "        const docLinkHtml = 'Like what you see? Visit the ' +\n",
              "          '<a target=\"_blank\" href=https://colab.research.google.com/notebooks/data_table.ipynb>data table notebook</a>'\n",
              "          + ' to learn more about interactive tables.';\n",
              "        element.innerHTML = '';\n",
              "        dataTable['output_type'] = 'display_data';\n",
              "        await google.colab.output.renderOutput(dataTable, element);\n",
              "        const docLink = document.createElement('div');\n",
              "        docLink.innerHTML = docLinkHtml;\n",
              "        element.appendChild(docLink);\n",
              "      }\n",
              "    </script>\n",
              "  </div>\n",
              "\n",
              "\n",
              "<div id=\"df-3abfc59c-d909-4592-bf65-8b596930c901\">\n",
              "  <button class=\"colab-df-quickchart\" onclick=\"quickchart('df-3abfc59c-d909-4592-bf65-8b596930c901')\"\n",
              "            title=\"Suggest charts\"\n",
              "            style=\"display:none;\">\n",
              "\n",
              "<svg xmlns=\"http://www.w3.org/2000/svg\" height=\"24px\"viewBox=\"0 0 24 24\"\n",
              "     width=\"24px\">\n",
              "    <g>\n",
              "        <path d=\"M19 3H5c-1.1 0-2 .9-2 2v14c0 1.1.9 2 2 2h14c1.1 0 2-.9 2-2V5c0-1.1-.9-2-2-2zM9 17H7v-7h2v7zm4 0h-2V7h2v10zm4 0h-2v-4h2v4z\"/>\n",
              "    </g>\n",
              "</svg>\n",
              "  </button>\n",
              "\n",
              "<style>\n",
              "  .colab-df-quickchart {\n",
              "      --bg-color: #E8F0FE;\n",
              "      --fill-color: #1967D2;\n",
              "      --hover-bg-color: #E2EBFA;\n",
              "      --hover-fill-color: #174EA6;\n",
              "      --disabled-fill-color: #AAA;\n",
              "      --disabled-bg-color: #DDD;\n",
              "  }\n",
              "\n",
              "  [theme=dark] .colab-df-quickchart {\n",
              "      --bg-color: #3B4455;\n",
              "      --fill-color: #D2E3FC;\n",
              "      --hover-bg-color: #434B5C;\n",
              "      --hover-fill-color: #FFFFFF;\n",
              "      --disabled-bg-color: #3B4455;\n",
              "      --disabled-fill-color: #666;\n",
              "  }\n",
              "\n",
              "  .colab-df-quickchart {\n",
              "    background-color: var(--bg-color);\n",
              "    border: none;\n",
              "    border-radius: 50%;\n",
              "    cursor: pointer;\n",
              "    display: none;\n",
              "    fill: var(--fill-color);\n",
              "    height: 32px;\n",
              "    padding: 0;\n",
              "    width: 32px;\n",
              "  }\n",
              "\n",
              "  .colab-df-quickchart:hover {\n",
              "    background-color: var(--hover-bg-color);\n",
              "    box-shadow: 0 1px 2px rgba(60, 64, 67, 0.3), 0 1px 3px 1px rgba(60, 64, 67, 0.15);\n",
              "    fill: var(--button-hover-fill-color);\n",
              "  }\n",
              "\n",
              "  .colab-df-quickchart-complete:disabled,\n",
              "  .colab-df-quickchart-complete:disabled:hover {\n",
              "    background-color: var(--disabled-bg-color);\n",
              "    fill: var(--disabled-fill-color);\n",
              "    box-shadow: none;\n",
              "  }\n",
              "\n",
              "  .colab-df-spinner {\n",
              "    border: 2px solid var(--fill-color);\n",
              "    border-color: transparent;\n",
              "    border-bottom-color: var(--fill-color);\n",
              "    animation:\n",
              "      spin 1s steps(1) infinite;\n",
              "  }\n",
              "\n",
              "  @keyframes spin {\n",
              "    0% {\n",
              "      border-color: transparent;\n",
              "      border-bottom-color: var(--fill-color);\n",
              "      border-left-color: var(--fill-color);\n",
              "    }\n",
              "    20% {\n",
              "      border-color: transparent;\n",
              "      border-left-color: var(--fill-color);\n",
              "      border-top-color: var(--fill-color);\n",
              "    }\n",
              "    30% {\n",
              "      border-color: transparent;\n",
              "      border-left-color: var(--fill-color);\n",
              "      border-top-color: var(--fill-color);\n",
              "      border-right-color: var(--fill-color);\n",
              "    }\n",
              "    40% {\n",
              "      border-color: transparent;\n",
              "      border-right-color: var(--fill-color);\n",
              "      border-top-color: var(--fill-color);\n",
              "    }\n",
              "    60% {\n",
              "      border-color: transparent;\n",
              "      border-right-color: var(--fill-color);\n",
              "    }\n",
              "    80% {\n",
              "      border-color: transparent;\n",
              "      border-right-color: var(--fill-color);\n",
              "      border-bottom-color: var(--fill-color);\n",
              "    }\n",
              "    90% {\n",
              "      border-color: transparent;\n",
              "      border-bottom-color: var(--fill-color);\n",
              "    }\n",
              "  }\n",
              "</style>\n",
              "\n",
              "  <script>\n",
              "    async function quickchart(key) {\n",
              "      const quickchartButtonEl =\n",
              "        document.querySelector('#' + key + ' button');\n",
              "      quickchartButtonEl.disabled = true;  // To prevent multiple clicks.\n",
              "      quickchartButtonEl.classList.add('colab-df-spinner');\n",
              "      try {\n",
              "        const charts = await google.colab.kernel.invokeFunction(\n",
              "            'suggestCharts', [key], {});\n",
              "      } catch (error) {\n",
              "        console.error('Error during call to suggestCharts:', error);\n",
              "      }\n",
              "      quickchartButtonEl.classList.remove('colab-df-spinner');\n",
              "      quickchartButtonEl.classList.add('colab-df-quickchart-complete');\n",
              "    }\n",
              "    (() => {\n",
              "      let quickchartButtonEl =\n",
              "        document.querySelector('#df-3abfc59c-d909-4592-bf65-8b596930c901 button');\n",
              "      quickchartButtonEl.style.display =\n",
              "        google.colab.kernel.accessAllowed ? 'block' : 'none';\n",
              "    })();\n",
              "  </script>\n",
              "</div>\n",
              "    </div>\n",
              "  </div>\n"
            ]
          },
          "metadata": {},
          "execution_count": 110
        }
      ]
    },
    {
      "cell_type": "code",
      "source": [
        "y= data['label']\n",
        "y.head()"
      ],
      "metadata": {
        "colab": {
          "base_uri": "https://localhost:8080/"
        },
        "id": "kJeP-xeMBo5c",
        "outputId": "62648c93-9b30-457d-8e4e-ab191ba48ebb"
      },
      "execution_count": 112,
      "outputs": [
        {
          "output_type": "execute_result",
          "data": {
            "text/plain": [
              "0    0\n",
              "1    0\n",
              "2    0\n",
              "3    0\n",
              "4    1\n",
              "Name: label, dtype: int64"
            ]
          },
          "metadata": {},
          "execution_count": 112
        }
      ]
    },
    {
      "cell_type": "code",
      "source": [
        "from sklearn.model_selection import train_test_split\n",
        "x_train, x_test, y_train, y_test = train_test_split(x,y,test_size=0.2, random_state=134)"
      ],
      "metadata": {
        "id": "pzY_cE4xB15Q"
      },
      "execution_count": 113,
      "outputs": []
    },
    {
      "cell_type": "code",
      "source": [
        "x_train"
      ],
      "metadata": {
        "colab": {
          "base_uri": "https://localhost:8080/",
          "height": 580
        },
        "id": "I2IhKoIIB6PH",
        "outputId": "75e2ee1f-74e5-479d-eb31-752230c4a38a"
      },
      "execution_count": 114,
      "outputs": [
        {
          "output_type": "execute_result",
          "data": {
            "text/plain": [
              "                                                                                                                                                                                                                                   tweet\n",
              "7627                                                                                                                                     rt raoumi new item w raoumi new sony mesientomascercadetsukki lol tsukishimakei httpiftttsjkgpm\n",
              "2466                                                                                                                                            feel special marissamfk cute mall pacsun iphone picture gay guy httpinstagrampqgjxtaibai\n",
              "6073                                                                                                                                                            reinstalling itunes time computer finally worked tooklongenough annoying\n",
              "4826                                                                                                            evil apple tried kill linux hiring linus torvalds glad turned httpwwwomgubuntucoukappletriedtohirelinustorvaldskilllinux\n",
              "4502                                                                                                                               even home get fit nikke trainning iphone app tweegram instagood iphonesia phot httpinstagrampmbpxzwck\n",
              "...                                                                                                                                                                                                                                  ...\n",
              "4210  cake camera worldphotographyday know would like tryit samsung photography blackmagic photo canon mic p tryit nikon photo k tech influencer sony jeremytryit nikonusa canonusa panasonicusa youtube instagrampictwittercomietthltbr\n",
              "5495                                                                                                                                 like reading like ebooks check story orpheus eurydice httpowlyvsg laptop android ipad mobile iphone\n",
              "3448                                                                                                                                   got iphone plus far amazing use android iphone iphone iphoneplus android io apple samsung feature\n",
              "5670                                                                                                                                 sabo abuloui today lattakia syria syrian samsung e shisha sabo httpiftttmhlc pictwittercomirjdikbka\n",
              "1507                                                                                                                        customizable apple ipad iphone iphone iphone quote relationship ipho httpiftttgxsxra pictwittercomokyskokabf\n",
              "\n",
              "[6336 rows x 1 columns]"
            ],
            "text/html": [
              "\n",
              "  <div id=\"df-73882d93-be74-4a3f-8bdc-4e18b09b9b17\" class=\"colab-df-container\">\n",
              "    <div>\n",
              "<style scoped>\n",
              "    .dataframe tbody tr th:only-of-type {\n",
              "        vertical-align: middle;\n",
              "    }\n",
              "\n",
              "    .dataframe tbody tr th {\n",
              "        vertical-align: top;\n",
              "    }\n",
              "\n",
              "    .dataframe thead th {\n",
              "        text-align: right;\n",
              "    }\n",
              "</style>\n",
              "<table border=\"1\" class=\"dataframe\">\n",
              "  <thead>\n",
              "    <tr style=\"text-align: right;\">\n",
              "      <th></th>\n",
              "      <th>tweet</th>\n",
              "    </tr>\n",
              "  </thead>\n",
              "  <tbody>\n",
              "    <tr>\n",
              "      <th>7627</th>\n",
              "      <td>rt raoumi new item w raoumi new sony mesientomascercadetsukki lol tsukishimakei httpiftttsjkgpm</td>\n",
              "    </tr>\n",
              "    <tr>\n",
              "      <th>2466</th>\n",
              "      <td>feel special marissamfk cute mall pacsun iphone picture gay guy httpinstagrampqgjxtaibai</td>\n",
              "    </tr>\n",
              "    <tr>\n",
              "      <th>6073</th>\n",
              "      <td>reinstalling itunes time computer finally worked tooklongenough annoying</td>\n",
              "    </tr>\n",
              "    <tr>\n",
              "      <th>4826</th>\n",
              "      <td>evil apple tried kill linux hiring linus torvalds glad turned httpwwwomgubuntucoukappletriedtohirelinustorvaldskilllinux</td>\n",
              "    </tr>\n",
              "    <tr>\n",
              "      <th>4502</th>\n",
              "      <td>even home get fit nikke trainning iphone app tweegram instagood iphonesia phot httpinstagrampmbpxzwck</td>\n",
              "    </tr>\n",
              "    <tr>\n",
              "      <th>...</th>\n",
              "      <td>...</td>\n",
              "    </tr>\n",
              "    <tr>\n",
              "      <th>4210</th>\n",
              "      <td>cake camera worldphotographyday know would like tryit samsung photography blackmagic photo canon mic p tryit nikon photo k tech influencer sony jeremytryit nikonusa canonusa panasonicusa youtube instagrampictwittercomietthltbr</td>\n",
              "    </tr>\n",
              "    <tr>\n",
              "      <th>5495</th>\n",
              "      <td>like reading like ebooks check story orpheus eurydice httpowlyvsg laptop android ipad mobile iphone</td>\n",
              "    </tr>\n",
              "    <tr>\n",
              "      <th>3448</th>\n",
              "      <td>got iphone plus far amazing use android iphone iphone iphoneplus android io apple samsung feature</td>\n",
              "    </tr>\n",
              "    <tr>\n",
              "      <th>5670</th>\n",
              "      <td>sabo abuloui today lattakia syria syrian samsung e shisha sabo httpiftttmhlc pictwittercomirjdikbka</td>\n",
              "    </tr>\n",
              "    <tr>\n",
              "      <th>1507</th>\n",
              "      <td>customizable apple ipad iphone iphone iphone quote relationship ipho httpiftttgxsxra pictwittercomokyskokabf</td>\n",
              "    </tr>\n",
              "  </tbody>\n",
              "</table>\n",
              "<p>6336 rows × 1 columns</p>\n",
              "</div>\n",
              "    <div class=\"colab-df-buttons\">\n",
              "\n",
              "  <div class=\"colab-df-container\">\n",
              "    <button class=\"colab-df-convert\" onclick=\"convertToInteractive('df-73882d93-be74-4a3f-8bdc-4e18b09b9b17')\"\n",
              "            title=\"Convert this dataframe to an interactive table.\"\n",
              "            style=\"display:none;\">\n",
              "\n",
              "  <svg xmlns=\"http://www.w3.org/2000/svg\" height=\"24px\" viewBox=\"0 -960 960 960\">\n",
              "    <path d=\"M120-120v-720h720v720H120Zm60-500h600v-160H180v160Zm220 220h160v-160H400v160Zm0 220h160v-160H400v160ZM180-400h160v-160H180v160Zm440 0h160v-160H620v160ZM180-180h160v-160H180v160Zm440 0h160v-160H620v160Z\"/>\n",
              "  </svg>\n",
              "    </button>\n",
              "\n",
              "  <style>\n",
              "    .colab-df-container {\n",
              "      display:flex;\n",
              "      gap: 12px;\n",
              "    }\n",
              "\n",
              "    .colab-df-convert {\n",
              "      background-color: #E8F0FE;\n",
              "      border: none;\n",
              "      border-radius: 50%;\n",
              "      cursor: pointer;\n",
              "      display: none;\n",
              "      fill: #1967D2;\n",
              "      height: 32px;\n",
              "      padding: 0 0 0 0;\n",
              "      width: 32px;\n",
              "    }\n",
              "\n",
              "    .colab-df-convert:hover {\n",
              "      background-color: #E2EBFA;\n",
              "      box-shadow: 0px 1px 2px rgba(60, 64, 67, 0.3), 0px 1px 3px 1px rgba(60, 64, 67, 0.15);\n",
              "      fill: #174EA6;\n",
              "    }\n",
              "\n",
              "    .colab-df-buttons div {\n",
              "      margin-bottom: 4px;\n",
              "    }\n",
              "\n",
              "    [theme=dark] .colab-df-convert {\n",
              "      background-color: #3B4455;\n",
              "      fill: #D2E3FC;\n",
              "    }\n",
              "\n",
              "    [theme=dark] .colab-df-convert:hover {\n",
              "      background-color: #434B5C;\n",
              "      box-shadow: 0px 1px 3px 1px rgba(0, 0, 0, 0.15);\n",
              "      filter: drop-shadow(0px 1px 2px rgba(0, 0, 0, 0.3));\n",
              "      fill: #FFFFFF;\n",
              "    }\n",
              "  </style>\n",
              "\n",
              "    <script>\n",
              "      const buttonEl =\n",
              "        document.querySelector('#df-73882d93-be74-4a3f-8bdc-4e18b09b9b17 button.colab-df-convert');\n",
              "      buttonEl.style.display =\n",
              "        google.colab.kernel.accessAllowed ? 'block' : 'none';\n",
              "\n",
              "      async function convertToInteractive(key) {\n",
              "        const element = document.querySelector('#df-73882d93-be74-4a3f-8bdc-4e18b09b9b17');\n",
              "        const dataTable =\n",
              "          await google.colab.kernel.invokeFunction('convertToInteractive',\n",
              "                                                    [key], {});\n",
              "        if (!dataTable) return;\n",
              "\n",
              "        const docLinkHtml = 'Like what you see? Visit the ' +\n",
              "          '<a target=\"_blank\" href=https://colab.research.google.com/notebooks/data_table.ipynb>data table notebook</a>'\n",
              "          + ' to learn more about interactive tables.';\n",
              "        element.innerHTML = '';\n",
              "        dataTable['output_type'] = 'display_data';\n",
              "        await google.colab.output.renderOutput(dataTable, element);\n",
              "        const docLink = document.createElement('div');\n",
              "        docLink.innerHTML = docLinkHtml;\n",
              "        element.appendChild(docLink);\n",
              "      }\n",
              "    </script>\n",
              "  </div>\n",
              "\n",
              "\n",
              "<div id=\"df-5541c81d-7ff3-465b-9dc2-60a8878bc036\">\n",
              "  <button class=\"colab-df-quickchart\" onclick=\"quickchart('df-5541c81d-7ff3-465b-9dc2-60a8878bc036')\"\n",
              "            title=\"Suggest charts\"\n",
              "            style=\"display:none;\">\n",
              "\n",
              "<svg xmlns=\"http://www.w3.org/2000/svg\" height=\"24px\"viewBox=\"0 0 24 24\"\n",
              "     width=\"24px\">\n",
              "    <g>\n",
              "        <path d=\"M19 3H5c-1.1 0-2 .9-2 2v14c0 1.1.9 2 2 2h14c1.1 0 2-.9 2-2V5c0-1.1-.9-2-2-2zM9 17H7v-7h2v7zm4 0h-2V7h2v10zm4 0h-2v-4h2v4z\"/>\n",
              "    </g>\n",
              "</svg>\n",
              "  </button>\n",
              "\n",
              "<style>\n",
              "  .colab-df-quickchart {\n",
              "      --bg-color: #E8F0FE;\n",
              "      --fill-color: #1967D2;\n",
              "      --hover-bg-color: #E2EBFA;\n",
              "      --hover-fill-color: #174EA6;\n",
              "      --disabled-fill-color: #AAA;\n",
              "      --disabled-bg-color: #DDD;\n",
              "  }\n",
              "\n",
              "  [theme=dark] .colab-df-quickchart {\n",
              "      --bg-color: #3B4455;\n",
              "      --fill-color: #D2E3FC;\n",
              "      --hover-bg-color: #434B5C;\n",
              "      --hover-fill-color: #FFFFFF;\n",
              "      --disabled-bg-color: #3B4455;\n",
              "      --disabled-fill-color: #666;\n",
              "  }\n",
              "\n",
              "  .colab-df-quickchart {\n",
              "    background-color: var(--bg-color);\n",
              "    border: none;\n",
              "    border-radius: 50%;\n",
              "    cursor: pointer;\n",
              "    display: none;\n",
              "    fill: var(--fill-color);\n",
              "    height: 32px;\n",
              "    padding: 0;\n",
              "    width: 32px;\n",
              "  }\n",
              "\n",
              "  .colab-df-quickchart:hover {\n",
              "    background-color: var(--hover-bg-color);\n",
              "    box-shadow: 0 1px 2px rgba(60, 64, 67, 0.3), 0 1px 3px 1px rgba(60, 64, 67, 0.15);\n",
              "    fill: var(--button-hover-fill-color);\n",
              "  }\n",
              "\n",
              "  .colab-df-quickchart-complete:disabled,\n",
              "  .colab-df-quickchart-complete:disabled:hover {\n",
              "    background-color: var(--disabled-bg-color);\n",
              "    fill: var(--disabled-fill-color);\n",
              "    box-shadow: none;\n",
              "  }\n",
              "\n",
              "  .colab-df-spinner {\n",
              "    border: 2px solid var(--fill-color);\n",
              "    border-color: transparent;\n",
              "    border-bottom-color: var(--fill-color);\n",
              "    animation:\n",
              "      spin 1s steps(1) infinite;\n",
              "  }\n",
              "\n",
              "  @keyframes spin {\n",
              "    0% {\n",
              "      border-color: transparent;\n",
              "      border-bottom-color: var(--fill-color);\n",
              "      border-left-color: var(--fill-color);\n",
              "    }\n",
              "    20% {\n",
              "      border-color: transparent;\n",
              "      border-left-color: var(--fill-color);\n",
              "      border-top-color: var(--fill-color);\n",
              "    }\n",
              "    30% {\n",
              "      border-color: transparent;\n",
              "      border-left-color: var(--fill-color);\n",
              "      border-top-color: var(--fill-color);\n",
              "      border-right-color: var(--fill-color);\n",
              "    }\n",
              "    40% {\n",
              "      border-color: transparent;\n",
              "      border-right-color: var(--fill-color);\n",
              "      border-top-color: var(--fill-color);\n",
              "    }\n",
              "    60% {\n",
              "      border-color: transparent;\n",
              "      border-right-color: var(--fill-color);\n",
              "    }\n",
              "    80% {\n",
              "      border-color: transparent;\n",
              "      border-right-color: var(--fill-color);\n",
              "      border-bottom-color: var(--fill-color);\n",
              "    }\n",
              "    90% {\n",
              "      border-color: transparent;\n",
              "      border-bottom-color: var(--fill-color);\n",
              "    }\n",
              "  }\n",
              "</style>\n",
              "\n",
              "  <script>\n",
              "    async function quickchart(key) {\n",
              "      const quickchartButtonEl =\n",
              "        document.querySelector('#' + key + ' button');\n",
              "      quickchartButtonEl.disabled = true;  // To prevent multiple clicks.\n",
              "      quickchartButtonEl.classList.add('colab-df-spinner');\n",
              "      try {\n",
              "        const charts = await google.colab.kernel.invokeFunction(\n",
              "            'suggestCharts', [key], {});\n",
              "      } catch (error) {\n",
              "        console.error('Error during call to suggestCharts:', error);\n",
              "      }\n",
              "      quickchartButtonEl.classList.remove('colab-df-spinner');\n",
              "      quickchartButtonEl.classList.add('colab-df-quickchart-complete');\n",
              "    }\n",
              "    (() => {\n",
              "      let quickchartButtonEl =\n",
              "        document.querySelector('#df-5541c81d-7ff3-465b-9dc2-60a8878bc036 button');\n",
              "      quickchartButtonEl.style.display =\n",
              "        google.colab.kernel.accessAllowed ? 'block' : 'none';\n",
              "    })();\n",
              "  </script>\n",
              "</div>\n",
              "    </div>\n",
              "  </div>\n"
            ]
          },
          "metadata": {},
          "execution_count": 114
        }
      ]
    },
    {
      "cell_type": "markdown",
      "source": [
        "BOW\n",
        "\n",
        "Bags of words model : It is used to convert text documents to numerical vectors or bag of words."
      ],
      "metadata": {
        "id": "Vo_a2dk5CC3w"
      }
    },
    {
      "cell_type": "code",
      "source": [
        "cv = CountVectorizer(stop_words = \"english\", min_df = 10, max_df=200, max_features = 2000)"
      ],
      "metadata": {
        "id": "9hZ5J-mPCLvr"
      },
      "execution_count": 115,
      "outputs": []
    },
    {
      "cell_type": "code",
      "source": [
        "#parse matrix to numpy array to_array\n",
        "x_train_bow = cv.fit_transform(x_train['tweet']).toarray()\n",
        "x_test_bow = cv.transform(x_test['tweet']).toarray()"
      ],
      "metadata": {
        "id": "5byrEgVzCRnw"
      },
      "execution_count": 116,
      "outputs": []
    },
    {
      "cell_type": "code",
      "source": [
        "print(cv.vocabulary_)"
      ],
      "metadata": {
        "colab": {
          "base_uri": "https://localhost:8080/"
        },
        "id": "c-YU-TOxCZJr",
        "outputId": "60fc47bb-5f37-4856-9f8c-7d7073b8c810"
      },
      "execution_count": 117,
      "outputs": [
        {
          "output_type": "stream",
          "name": "stdout",
          "text": [
            "{'lol': 438, 'feel': 228, 'special': 698, 'picture': 562, 'gay': 271, 'guy': 299, 'itunes': 386, 'time': 766, 'computer': 135, 'finally': 232, 'annoying': 17, 'glad': 280, 'home': 324, 'fit': 233, 'app': 19, 'tweegram': 791, 'iphonesia': 380, 'iphonex': 381, 'phonecases': 553, 'style': 722, 'tech': 749, 'lifestyle': 424, 'mirror': 481, 'fresh': 253, 'smile': 678, 'note': 516, 'twitter': 795, 'account': 2, 'customer': 150, 'support': 731, 'great': 295, 'thank': 755, 'awesome': 35, 'better': 53, 'thing': 760, 'store': 715, 'crappy': 146, 'service': 647, 'experience': 207, 'fan': 219, 'right': 617, 'motorola': 495, 'toy': 777, 'kawaii': 397, 'pink': 565, 'purple': 591, 'fuck': 257, 'yousuck': 884, 'saying': 634, 'drive': 187, 'way': 837, 'fucked': 258, 'wow': 866, 'quote': 593, 'question': 592, 'igdaily': 346, 'instadaily': 362, 'ig': 345, 'broke': 80, 'charging': 109, 'need': 503, 'ipod': 382, 'ugh': 798, 'dream': 185, 'sweet': 735, 'light': 425, 'summer': 724, 'night': 511, 'bed': 47, 'feature': 225, 'camera': 94, 'idea': 344, 'release': 607, 'big': 54, 'happened': 304, 'bad': 38, 'marketing': 465, 'yay': 875, 'tweet': 792, 'instahub': 364, 'insta': 360, 'price': 581, 'download': 184, 'dead': 162, 'play': 567, 'psn': 588, 'playstation': 569, 'simple': 663, 'moment': 488, 'memory': 467, 'iphoneography': 375, 'photooftheday': 558, 'beautiful': 45, 'change': 106, 'genius': 275, 'fucking': 259, 'going': 283, 'color': 128, 'girl': 278, 'happy': 306, 'gamer': 267, 'excited': 206, 'pie': 563, 'pop': 573, 'crash': 147, 'fashion': 221, 'health': 314, 'fail': 216, 'funny': 261, 'gain': 264, 'follower': 242, 'rts': 621, 'sougofollow': 693, 'update': 804, 'screen': 636, 'video': 820, 'work': 859, 'food': 248, 'people': 548, 'hashtag': 308, 'baby': 36, 'design': 171, 'collection': 126, 'sunset': 728, 'minute': 480, 'ago': 8, 'europe': 203, 'zeeland': 888, 'stuck': 719, 'yes': 878, 'haha': 300, 'true': 782, 'deleted': 169, 'lost': 445, 'feeling': 229, 'google': 291, 'map': 462, 'mini': 479, 'version': 819, 'money': 491, 'christmas': 118, 'family': 218, 'dinner': 177, 'jj': 390, 'sky': 669, 'followme': 244, 'phonecase': 552, 'bought': 72, 'charity': 110, 'california': 92, 'hate': 309, 'say': 633, 'game': 266, 'instapic': 369, 'year': 877, 'couple': 141, 'black': 58, 'party': 541, 'ny': 520, 'nyc': 521, 'newyork': 509, 'usa': 809, 'travel': 778, 'valentine': 817, 'coming': 131, 'gift': 277, 'lg': 421, 'xperia': 872, 'htc': 329, 'little': 434, 'link': 429, 'use': 811, 'code': 123, 'blackfriday': 61, 'tshirt': 787, 'tbt': 745, 'boy': 73, 'relax': 606, 'chocolate': 117, 'week': 841, 'nice': 510, 'weather': 838, 'sun': 725, 'sound': 695, 'thought': 762, 'make': 458, 'wish': 855, 'crazy': 148, 'huge': 339, 'available': 33, 'getting': 276, 'newphone': 506, 'tomorrow': 772, 'sprint': 703, 'tmobile': 770, 'instaphoto': 368, 'xperiaz': 873, 'date': 158, 'wait': 827, 'till': 765, 'come': 130, 'unique': 801, 'iphonecases': 374, 'page': 539, 'birthday': 56, 'dad': 153, 'instago': 363, 'webstagram': 839, 'enjoy': 200, 'thanks': 757, 'rid': 616, 'speed': 699, 'sick': 661, 'hey': 320, 'free': 252, 'th': 753, 'steve': 711, 'job': 391, 'away': 34, 'sale': 626, 'discount': 178, 'iphones': 379, 'iphoneplus': 378, 'click': 121, 'videogames': 821, 'really': 600, 'delete': 168, 'half': 302, 'text': 752, 'actually': 3, 'product': 585, 'hope': 325, 'lose': 444, 'contact': 137, 'isnt': 383, 'number': 519, 'hello': 318, 'friend': 255, 'pretty': 580, 'white': 846, 'gold': 284, 'good': 287, 'best': 49, 'ff': 230, 'gratitude': 294, 'entrepreneur': 202, 'blackberry': 60, 'past': 544, 'team': 746, 'space': 696, 'cool': 138, 'nature': 501, 'hour': 327, 'fixed': 236, 'pm': 571, 'trying': 786, 'mac': 451, 'look': 442, 'selfie': 642, 'igers': 347, 'instalike': 365, 'instalove': 366, 'reason': 602, 'world': 861, 'buy': 87, 'kindle': 402, 'picoftheday': 561, 'bestoftheday': 51, 'stupid': 721, 'charge': 107, 'merry': 469, 'ive': 387, 'morning': 493, 'laugh': 413, 'used': 812, 'online': 530, 'xbox': 869, 'arrived': 26, 'shopping': 657, 'ootd': 531, 'wife': 847, 'daughter': 161, 'followsunday': 245, 'followback': 241, 'teamfollowback': 748, 'retweet': 613, 'ya': 874, 'internet': 370, 'house': 328, 'wouldnt': 865, 'early': 190, 'restore': 612, 'goodbye': 288, 'newtoy': 507, 'suck': 723, 'spent': 700, 'power': 578, 'cable': 89, 'month': 492, 'beauty': 46, 'welcome': 843, 'boostmobile': 68, 'face': 211, 'switch': 736, 'accessory': 1, 'earphone': 191, 'headphone': 313, 'miami': 472, 'florida': 238, 'tuesday': 788, 'yolo': 881, 'sunny': 727, 'holiday': 323, 'seriously': 646, 'fuckyou': 260, 'help': 319, 'happiness': 305, 'nofilter': 514, 'keyboard': 399, 'cl': 120, 'easy': 192, 'college': 127, 'macbook': 452, 'instamood': 367, 'iphoneonly': 376, 'yesterday': 879, 'sent': 645, 'mail': 457, 'care': 100, 'soon': 690, 'gone': 285, 'complete': 133, 'went': 844, 'blue': 66, 'upgrade': 806, 'upgraded': 807, 'film': 231, 'turn': 789, 'old': 528, 'drop': 188, 'red': 603, 'stuff': 720, 'trump': 783, 'mean': 466, 'street': 718, 'gb': 272, 'uk': 799, 'city': 119, 'london': 439, 'start': 706, 'gonna': 286, 'japan': 389, 'starting': 708, 'different': 175, 'cause': 103, 'pissed': 566, 'wifi': 848, 'password': 543, 'apps': 23, 'unitedstate': 802, 'guitarplayer': 298, 'dont': 183, 'lot': 446, 'coffee': 124, 'yeah': 876, 'mother': 494, 'ready': 598, 'twitch': 794, 'window': 850, 'nokia': 515, 'smartphone': 675, 'offer': 522, 'bestprice': 52, 'jun': 394, 'da': 152, 'cut': 151, 'know': 405, 'tag': 740, 'rhyme': 615, 'httpbitlyrhymeapp': 332, 'bug': 83, 'fix': 235, 'le': 414, 'song': 684, 'ok': 526, 'live': 435, 'tree': 779, 'heart': 316, 'digital': 176, 'man': 461, 'youre': 883, 'imessage': 353, 'facebook': 212, 'sonyalpha': 685, 'tablet': 739, 'yo': 880, 'hateapple': 310, 'giving': 279, 'totally': 775, 'foodporn': 249, 'dj': 180, 'gaming': 268, 'flash': 237, 'added': 5, 'try': 785, 'speaker': 697, 'music': 499, 'school': 635, 'chilling': 115, 'check': 112, 'technology': 750, 'network': 504, 'sexy': 650, 'lady': 407, 'rock': 618, 'siri': 666, 'doesnt': 181, 'laptop': 409, 'amazing': 13, 'mp': 498, 'goal': 281, 'lip': 431, 'newyear': 508, 'cousin': 142, 'hehe': 317, 'cover': 143, 'count': 140, 'tl': 769, 'january': 388, 'tip': 767, 'gotta': 293, 'wine': 851, 'making': 460, 'want': 833, 'reposting': 610, 'peace': 547, 'kid': 401, 'wrong': 867, 'portrait': 575, 'factory': 215, 'setting': 649, 'agree': 9, 'thats': 759, 'galaxynote': 265, 'gadget': 263, 'stop': 713, 'working': 860, 'model': 486, 'hot': 326, 'type': 796, 'catch': 102, 'sunday': 726, 'gear': 273, 'flower': 239, 'green': 296, 'ask': 29, 'httpaskfmlslloveadvice': 330, 'shoppinglist': 658, 'httpbitlypqcrtc': 331, 'purchase': 590, 'book': 67, 'relationship': 605, 'dating': 159, 'datingadvice': 160, 'tired': 768, 'woman': 856, 'stay': 709, 'samsungs': 629, 'shipping': 652, 'level': 420, 'freaking': 251, 'super': 730, 'macbookpro': 454, 'favorite': 223, 'perfect': 549, 'sea': 637, 'beach': 43, 'august': 32, 'italy': 385, 'broken': 81, 'capetownsup': 97, 'sup': 729, 'surf': 733, 'capetown': 96, 'tv': 790, 'rain': 595, 'fall': 217, 'mobile': 484, 'piece': 564, 'havent': 311, 'shoot': 655, 'god': 282, 'sister': 667, 'proud': 587, 'indonesia': 356, 'pic': 560, 'hair': 301, 'button': 86, 'thx': 764, 'battery': 41, 'charger': 108, 'guess': 297, 'geek': 274, 'blow': 65, 'learn': 415, 'luxury': 449, 'smh': 677, 'ur': 808, 'truth': 784, 'swag': 734, 'dance': 156, 'redbubble': 604, 'software': 682, 'let': 419, 'michelle': 473, 'came': 93, 'nascar': 500, 'movie': 497, 'single': 665, 'brother': 82, 'thankyou': 758, 'healthy': 315, 'blessed': 62, 'running': 623, 'wasnt': 834, 'steemit': 710, 'story': 716, 'blog': 63, 'image': 352, 'sonylens': 686, 'sonyphoto': 687, 'sonyphotos': 689, 'sonyphotography': 688, 'photofeed': 555, 'dog': 182, 'cat': 101, 'deal': 163, 'think': 761, 'room': 619, 'appstore': 24, 'loving': 447, 'fact': 214, 'wont': 857, 'visit': 823, 'crap': 145, 'oh': 525, 'took': 774, 'icloud': 342, 'believe': 48, 'microsoft': 474, 'save': 632, 'cloud': 122, 'playing': 568, 'search': 638, 'chill': 114, 'youtube': 885, 'daily': 155, 'hi': 321, 'left': 417, 'monday': 490, 'id': 343, 'send': 644, 'min': 477, 'device': 172, 'long': 440, 'vocation': 824, 'trip': 781, 'thailand': 754, 'khaoko': 400, 'ilce': 349, 'vsco': 825, 'snapspeed': 679, 'pro': 582, 'looking': 443, 'repair': 608, 'business': 85, 'cell': 104, 'updated': 805, 'fitness': 234, 'present': 579, 'joy': 392, 'break': 76, 'facetime': 213, 'daddy': 154, 'reallyreal': 601, 'photobooth': 554, 'httpreallyrealcom': 336, 'sorority': 691, 'hd': 312, 'didnt': 173, 'wtf': 868, 'httpsitunesapplecomappid': 337, 'edge': 194, 'lens': 418, 'feed': 227, 'passion': 542, 'word': 858, 'shitty': 654, 'bring': 79, 'wanna': 832, 'att': 31, 'share': 651, 'mom': 487, 'mommy': 489, 'wedding': 840, 'weekend': 842, 'saturday': 631, 'justinbieber': 396, 'likelike': 427, 'plus': 570, 'reset': 611, 'display': 179, 'iphonephotography': 377, 'mountain': 496, 'line': 428, 'fruit': 256, 'lion': 430, 'dear': 164, 'drink': 186, 'blogger': 64, 'paris': 540, 'random': 596, 'latest': 412, 'cake': 90, 'shot': 659, 'shotoniphone': 660, 'photographer': 557, 'son': 683, 'colorful': 129, 'car': 98, 'radio': 594, 'bored': 69, 'key': 398, 'creative': 149, 'original': 536, 'producer': 584, 'soul': 694, 'singer': 664, 'stevejobs': 712, 'sport': 701, 'followfollow': 243, 'ly': 450, 'told': 771, 'macbookair': 453, 'osx': 537, 'eye': 210, 'vscocam': 826, 'followus': 247, 'smallbiz': 673, 'newappstore': 505, 'orange': 533, 'okay': 527, 'wallpaper': 831, 'art': 27, 'youll': 882, 'canon': 95, 'sad': 624, 'mm': 483, 'air': 10, 'taken': 741, 'animal': 16, 'sleep': 670, 'smart': 674, 'high': 322, 'problem': 583, 'fast': 222, 'throw': 763, 'wall': 830, 'calendar': 91, 'user': 813, 'pc': 546, 'exquisite': 209, 'squishy': 704, 'charm': 111, 'httpebaytoyimr': 333, 'strap': 717, 'decor': 167, 'shop': 656, 'completely': 134, 'using': 814, 'run': 622, 'november': 517, 'tab': 738, 'ipads': 372, 'said': 625, 'set': 648, 'pay': 545, 'card': 99, 'emoji': 198, 'applewatch': 21, 'cold': 125, 'winter': 853, 'watch': 835, 'worst': 863, 'lock': 437, 'info': 357, 'uae': 797, 'water': 836, 'answer': 18, 'security': 640, 'console': 136, 'instacool': 361, 'june': 395, 'waiting': 828, 'ad': 4, 'imac': 351, 'samsunggalaxys': 628, 'company': 132, 'blackandwhite': 59, 'hand': 303, 'ball': 39, 'walk': 829, 'tonight': 773, 'xd': 870, 'adventure': 7, 'tweetgram': 793, 'makeup': 459, 'brand': 75, 'longer': 441, 'taking': 742, 'popular': 574, 'sorry': 692, 'ordered': 535, 'beat': 44, 'goodnight': 290, 'led': 416, 'effect': 196, 'decided': 165, 'rose': 620, 'teamandroid': 747, 'started': 707, 'silver': 662, 'shit': 653, 'whats': 845, 'ill': 350, 'miss': 482, 'kiss': 404, 'win': 849, 'talk': 743, 'event': 205, 'likeforlike': 426, 'angry': 15, 'bird': 55, 'asshole': 30, 'vintage': 822, 'late': 410, 'cellphone': 105, 'tell': 751, 'post': 577, 'future': 262, 'amazon': 14, 'followtrick': 246, 'yum': 886, 'delicious': 170, 'al': 11, 'ipadmini': 371, 'die': 174, 'mi': 471, 'gorgeous': 292, 'bull': 84, 'fb': 224, 'open': 532, 'buying': 88, 'issue': 384, 'sure': 732, 'message': 470, 'tattoo': 744, 'real': 599, 'boyfriend': 74, 'bestfriend': 50, 'hard': 307, 'officially': 524, 'winning': 852, 'load': 436, 'library': 422, 'nike': 512, 'xmas': 871, 'evening': 204, 'far': 220, 'friday': 254, 'garden': 269, 'self': 641, 'samsunggalaxy': 627, 'read': 597, 'end': 199, 'middle': 475, 'touch': 776, 'able': 0, 'listen': 432, 'literally': 433, 'market': 464, 'spring': 702, 'entire': 201, 'magic': 456, 'person': 550, 'trend': 780, 'decides': 166, 'order': 534, 'unboxing': 800, 'outdoors': 538, 'explore': 208, 'landscape': 408, 'nikon': 513, 'piano': 559, 'nd': 502, 'breakfast': 77, 'replaced': 609, 'applesucks': 20, 'husband': 341, 'stand': 705, 'usb': 810, 'zoom': 889, 'pet': 551, 'verizon': 818, 'india': 355, 'ebay': 193, 'social': 681, 'small': 672, 'later': 411, 'forever': 250, 'bot': 71, 'banana': 40, 'king': 403, 'ink': 358, 'artist': 28, 'slow': 671, 'worse': 862, 'edm': 195, 'march': 463, 'dropped': 189, 'bit': 57, 'goodmorning': 289, 'inspiration': 359, 'prophet': 586, 'httpiftttborkb': 335, 'httpiftttasurcj': 334, 'men': 468, 'puppy': 589, 'mind': 478, 'iphonecase': 373, 'unlocked': 803, 'april': 25, 'lie': 423, 'juice': 393, 'sync': 737, 'review': 614, 'backup': 37, 'mode': 485, 'second': 639, 'storage': 714, 'data': 157, 'oneplus': 529, 'poem': 572, 'httpsitunesapplecomusapploveidmt': 338, 'bright': 78, 'photograph': 556, 'mad': 455, 'possible': 576, 'cracked': 144, 'inch': 354, 'chinese': 116, 'aliusaexpress': 12, 'snow': 680, 'bos': 70, 'appointment': 22, 'worth': 864, 'february': 226, 'email': 197, 'cost': 139, 'child': 113, 'bday': 42, 'skin': 668, 'humanity': 340, 'lte': 448, 'yummy': 887, 'vaio': 816, 'adorable': 6, 'ignation': 348, 'office': 523, 'la': 406, 'fml': 240, 'santa': 630, 'wireless': 854, 'million': 476, 'vacation': 815, 'nowplaying': 518, 'gave': 270, 'sell': 643, 'thankful': 756, 'smartphones': 676}\n"
          ]
        }
      ]
    },
    {
      "cell_type": "code",
      "source": [
        "len(cv.vocabulary_)"
      ],
      "metadata": {
        "colab": {
          "base_uri": "https://localhost:8080/"
        },
        "id": "0Xkf1ABtCfL_",
        "outputId": "3c3a73b4-5db6-42ca-d49b-141aa6a8d4e1"
      },
      "execution_count": 118,
      "outputs": [
        {
          "output_type": "execute_result",
          "data": {
            "text/plain": [
              "890"
            ]
          },
          "metadata": {},
          "execution_count": 118
        }
      ]
    },
    {
      "cell_type": "markdown",
      "source": [
        "TF-IDF\n",
        "\n",
        "Term Frequency-Inverse Document Frequency model (TFIDF) : It is used to convert text documents to matrix of tfidf features."
      ],
      "metadata": {
        "id": "Yfr4tUPECjPY"
      }
    },
    {
      "cell_type": "code",
      "source": [
        "tfidfvec = TfidfVectorizer(stop_words = \"english\", min_df = 10, max_df=200, max_features = 2000)"
      ],
      "metadata": {
        "id": "LLzhjnLNCvXY"
      },
      "execution_count": 119,
      "outputs": []
    },
    {
      "cell_type": "code",
      "source": [
        "#parse matrix to numpy array to_array\n",
        "x_train_tfidf= tfidfvec.fit_transform(x_train['tweet']).toarray()\n",
        "x_test_tfidf = tfidfvec.transform(x_test['tweet']).toarray()"
      ],
      "metadata": {
        "id": "4JElVV44CyUM"
      },
      "execution_count": 121,
      "outputs": []
    },
    {
      "cell_type": "code",
      "source": [
        "print(tfidfvec.vocabulary_)"
      ],
      "metadata": {
        "colab": {
          "base_uri": "https://localhost:8080/"
        },
        "id": "Gb5OU45CC6dv",
        "outputId": "29ef0ae7-7207-4570-adec-fc19e9185cb5"
      },
      "execution_count": 122,
      "outputs": [
        {
          "output_type": "stream",
          "name": "stdout",
          "text": [
            "{'lol': 438, 'feel': 228, 'special': 698, 'picture': 562, 'gay': 271, 'guy': 299, 'itunes': 386, 'time': 766, 'computer': 135, 'finally': 232, 'annoying': 17, 'glad': 280, 'home': 324, 'fit': 233, 'app': 19, 'tweegram': 791, 'iphonesia': 380, 'iphonex': 381, 'phonecases': 553, 'style': 722, 'tech': 749, 'lifestyle': 424, 'mirror': 481, 'fresh': 253, 'smile': 678, 'note': 516, 'twitter': 795, 'account': 2, 'customer': 150, 'support': 731, 'great': 295, 'thank': 755, 'awesome': 35, 'better': 53, 'thing': 760, 'store': 715, 'crappy': 146, 'service': 647, 'experience': 207, 'fan': 219, 'right': 617, 'motorola': 495, 'toy': 777, 'kawaii': 397, 'pink': 565, 'purple': 591, 'fuck': 257, 'yousuck': 884, 'saying': 634, 'drive': 187, 'way': 837, 'fucked': 258, 'wow': 866, 'quote': 593, 'question': 592, 'igdaily': 346, 'instadaily': 362, 'ig': 345, 'broke': 80, 'charging': 109, 'need': 503, 'ipod': 382, 'ugh': 798, 'dream': 185, 'sweet': 735, 'light': 425, 'summer': 724, 'night': 511, 'bed': 47, 'feature': 225, 'camera': 94, 'idea': 344, 'release': 607, 'big': 54, 'happened': 304, 'bad': 38, 'marketing': 465, 'yay': 875, 'tweet': 792, 'instahub': 364, 'insta': 360, 'price': 581, 'download': 184, 'dead': 162, 'play': 567, 'psn': 588, 'playstation': 569, 'simple': 663, 'moment': 488, 'memory': 467, 'iphoneography': 375, 'photooftheday': 558, 'beautiful': 45, 'change': 106, 'genius': 275, 'fucking': 259, 'going': 283, 'color': 128, 'girl': 278, 'happy': 306, 'gamer': 267, 'excited': 206, 'pie': 563, 'pop': 573, 'crash': 147, 'fashion': 221, 'health': 314, 'fail': 216, 'funny': 261, 'gain': 264, 'follower': 242, 'rts': 621, 'sougofollow': 693, 'update': 804, 'screen': 636, 'video': 820, 'work': 859, 'food': 248, 'people': 548, 'hashtag': 308, 'baby': 36, 'design': 171, 'collection': 126, 'sunset': 728, 'minute': 480, 'ago': 8, 'europe': 203, 'zeeland': 888, 'stuck': 719, 'yes': 878, 'haha': 300, 'true': 782, 'deleted': 169, 'lost': 445, 'feeling': 229, 'google': 291, 'map': 462, 'mini': 479, 'version': 819, 'money': 491, 'christmas': 118, 'family': 218, 'dinner': 177, 'jj': 390, 'sky': 669, 'followme': 244, 'phonecase': 552, 'bought': 72, 'charity': 110, 'california': 92, 'hate': 309, 'say': 633, 'game': 266, 'instapic': 369, 'year': 877, 'couple': 141, 'black': 58, 'party': 541, 'ny': 520, 'nyc': 521, 'newyork': 509, 'usa': 809, 'travel': 778, 'valentine': 817, 'coming': 131, 'gift': 277, 'lg': 421, 'xperia': 872, 'htc': 329, 'little': 434, 'link': 429, 'use': 811, 'code': 123, 'blackfriday': 61, 'tshirt': 787, 'tbt': 745, 'boy': 73, 'relax': 606, 'chocolate': 117, 'week': 841, 'nice': 510, 'weather': 838, 'sun': 725, 'sound': 695, 'thought': 762, 'make': 458, 'wish': 855, 'crazy': 148, 'huge': 339, 'available': 33, 'getting': 276, 'newphone': 506, 'tomorrow': 772, 'sprint': 703, 'tmobile': 770, 'instaphoto': 368, 'xperiaz': 873, 'date': 158, 'wait': 827, 'till': 765, 'come': 130, 'unique': 801, 'iphonecases': 374, 'page': 539, 'birthday': 56, 'dad': 153, 'instago': 363, 'webstagram': 839, 'enjoy': 200, 'thanks': 757, 'rid': 616, 'speed': 699, 'sick': 661, 'hey': 320, 'free': 252, 'th': 753, 'steve': 711, 'job': 391, 'away': 34, 'sale': 626, 'discount': 178, 'iphones': 379, 'iphoneplus': 378, 'click': 121, 'videogames': 821, 'really': 600, 'delete': 168, 'half': 302, 'text': 752, 'actually': 3, 'product': 585, 'hope': 325, 'lose': 444, 'contact': 137, 'isnt': 383, 'number': 519, 'hello': 318, 'friend': 255, 'pretty': 580, 'white': 846, 'gold': 284, 'good': 287, 'best': 49, 'ff': 230, 'gratitude': 294, 'entrepreneur': 202, 'blackberry': 60, 'past': 544, 'team': 746, 'space': 696, 'cool': 138, 'nature': 501, 'hour': 327, 'fixed': 236, 'pm': 571, 'trying': 786, 'mac': 451, 'look': 442, 'selfie': 642, 'igers': 347, 'instalike': 365, 'instalove': 366, 'reason': 602, 'world': 861, 'buy': 87, 'kindle': 402, 'picoftheday': 561, 'bestoftheday': 51, 'stupid': 721, 'charge': 107, 'merry': 469, 'ive': 387, 'morning': 493, 'laugh': 413, 'used': 812, 'online': 530, 'xbox': 869, 'arrived': 26, 'shopping': 657, 'ootd': 531, 'wife': 847, 'daughter': 161, 'followsunday': 245, 'followback': 241, 'teamfollowback': 748, 'retweet': 613, 'ya': 874, 'internet': 370, 'house': 328, 'wouldnt': 865, 'early': 190, 'restore': 612, 'goodbye': 288, 'newtoy': 507, 'suck': 723, 'spent': 700, 'power': 578, 'cable': 89, 'month': 492, 'beauty': 46, 'welcome': 843, 'boostmobile': 68, 'face': 211, 'switch': 736, 'accessory': 1, 'earphone': 191, 'headphone': 313, 'miami': 472, 'florida': 238, 'tuesday': 788, 'yolo': 881, 'sunny': 727, 'holiday': 323, 'seriously': 646, 'fuckyou': 260, 'help': 319, 'happiness': 305, 'nofilter': 514, 'keyboard': 399, 'cl': 120, 'easy': 192, 'college': 127, 'macbook': 452, 'instamood': 367, 'iphoneonly': 376, 'yesterday': 879, 'sent': 645, 'mail': 457, 'care': 100, 'soon': 690, 'gone': 285, 'complete': 133, 'went': 844, 'blue': 66, 'upgrade': 806, 'upgraded': 807, 'film': 231, 'turn': 789, 'old': 528, 'drop': 188, 'red': 603, 'stuff': 720, 'trump': 783, 'mean': 466, 'street': 718, 'gb': 272, 'uk': 799, 'city': 119, 'london': 439, 'start': 706, 'gonna': 286, 'japan': 389, 'starting': 708, 'different': 175, 'cause': 103, 'pissed': 566, 'wifi': 848, 'password': 543, 'apps': 23, 'unitedstate': 802, 'guitarplayer': 298, 'dont': 183, 'lot': 446, 'coffee': 124, 'yeah': 876, 'mother': 494, 'ready': 598, 'twitch': 794, 'window': 850, 'nokia': 515, 'smartphone': 675, 'offer': 522, 'bestprice': 52, 'jun': 394, 'da': 152, 'cut': 151, 'know': 405, 'tag': 740, 'rhyme': 615, 'httpbitlyrhymeapp': 332, 'bug': 83, 'fix': 235, 'le': 414, 'song': 684, 'ok': 526, 'live': 435, 'tree': 779, 'heart': 316, 'digital': 176, 'man': 461, 'youre': 883, 'imessage': 353, 'facebook': 212, 'sonyalpha': 685, 'tablet': 739, 'yo': 880, 'hateapple': 310, 'giving': 279, 'totally': 775, 'foodporn': 249, 'dj': 180, 'gaming': 268, 'flash': 237, 'added': 5, 'try': 785, 'speaker': 697, 'music': 499, 'school': 635, 'chilling': 115, 'check': 112, 'technology': 750, 'network': 504, 'sexy': 650, 'lady': 407, 'rock': 618, 'siri': 666, 'doesnt': 181, 'laptop': 409, 'amazing': 13, 'mp': 498, 'goal': 281, 'lip': 431, 'newyear': 508, 'cousin': 142, 'hehe': 317, 'cover': 143, 'count': 140, 'tl': 769, 'january': 388, 'tip': 767, 'gotta': 293, 'wine': 851, 'making': 460, 'want': 833, 'reposting': 610, 'peace': 547, 'kid': 401, 'wrong': 867, 'portrait': 575, 'factory': 215, 'setting': 649, 'agree': 9, 'thats': 759, 'galaxynote': 265, 'gadget': 263, 'stop': 713, 'working': 860, 'model': 486, 'hot': 326, 'type': 796, 'catch': 102, 'sunday': 726, 'gear': 273, 'flower': 239, 'green': 296, 'ask': 29, 'httpaskfmlslloveadvice': 330, 'shoppinglist': 658, 'httpbitlypqcrtc': 331, 'purchase': 590, 'book': 67, 'relationship': 605, 'dating': 159, 'datingadvice': 160, 'tired': 768, 'woman': 856, 'stay': 709, 'samsungs': 629, 'shipping': 652, 'level': 420, 'freaking': 251, 'super': 730, 'macbookpro': 454, 'favorite': 223, 'perfect': 549, 'sea': 637, 'beach': 43, 'august': 32, 'italy': 385, 'broken': 81, 'capetownsup': 97, 'sup': 729, 'surf': 733, 'capetown': 96, 'tv': 790, 'rain': 595, 'fall': 217, 'mobile': 484, 'piece': 564, 'havent': 311, 'shoot': 655, 'god': 282, 'sister': 667, 'proud': 587, 'indonesia': 356, 'pic': 560, 'hair': 301, 'button': 86, 'thx': 764, 'battery': 41, 'charger': 108, 'guess': 297, 'geek': 274, 'blow': 65, 'learn': 415, 'luxury': 449, 'smh': 677, 'ur': 808, 'truth': 784, 'swag': 734, 'dance': 156, 'redbubble': 604, 'software': 682, 'let': 419, 'michelle': 473, 'came': 93, 'nascar': 500, 'movie': 497, 'single': 665, 'brother': 82, 'thankyou': 758, 'healthy': 315, 'blessed': 62, 'running': 623, 'wasnt': 834, 'steemit': 710, 'story': 716, 'blog': 63, 'image': 352, 'sonylens': 686, 'sonyphoto': 687, 'sonyphotos': 689, 'sonyphotography': 688, 'photofeed': 555, 'dog': 182, 'cat': 101, 'deal': 163, 'think': 761, 'room': 619, 'appstore': 24, 'loving': 447, 'fact': 214, 'wont': 857, 'visit': 823, 'crap': 145, 'oh': 525, 'took': 774, 'icloud': 342, 'believe': 48, 'microsoft': 474, 'save': 632, 'cloud': 122, 'playing': 568, 'search': 638, 'chill': 114, 'youtube': 885, 'daily': 155, 'hi': 321, 'left': 417, 'monday': 490, 'id': 343, 'send': 644, 'min': 477, 'device': 172, 'long': 440, 'vocation': 824, 'trip': 781, 'thailand': 754, 'khaoko': 400, 'ilce': 349, 'vsco': 825, 'snapspeed': 679, 'pro': 582, 'looking': 443, 'repair': 608, 'business': 85, 'cell': 104, 'updated': 805, 'fitness': 234, 'present': 579, 'joy': 392, 'break': 76, 'facetime': 213, 'daddy': 154, 'reallyreal': 601, 'photobooth': 554, 'httpreallyrealcom': 336, 'sorority': 691, 'hd': 312, 'didnt': 173, 'wtf': 868, 'httpsitunesapplecomappid': 337, 'edge': 194, 'lens': 418, 'feed': 227, 'passion': 542, 'word': 858, 'shitty': 654, 'bring': 79, 'wanna': 832, 'att': 31, 'share': 651, 'mom': 487, 'mommy': 489, 'wedding': 840, 'weekend': 842, 'saturday': 631, 'justinbieber': 396, 'likelike': 427, 'plus': 570, 'reset': 611, 'display': 179, 'iphonephotography': 377, 'mountain': 496, 'line': 428, 'fruit': 256, 'lion': 430, 'dear': 164, 'drink': 186, 'blogger': 64, 'paris': 540, 'random': 596, 'latest': 412, 'cake': 90, 'shot': 659, 'shotoniphone': 660, 'photographer': 557, 'son': 683, 'colorful': 129, 'car': 98, 'radio': 594, 'bored': 69, 'key': 398, 'creative': 149, 'original': 536, 'producer': 584, 'soul': 694, 'singer': 664, 'stevejobs': 712, 'sport': 701, 'followfollow': 243, 'ly': 450, 'told': 771, 'macbookair': 453, 'osx': 537, 'eye': 210, 'vscocam': 826, 'followus': 247, 'smallbiz': 673, 'newappstore': 505, 'orange': 533, 'okay': 527, 'wallpaper': 831, 'art': 27, 'youll': 882, 'canon': 95, 'sad': 624, 'mm': 483, 'air': 10, 'taken': 741, 'animal': 16, 'sleep': 670, 'smart': 674, 'high': 322, 'problem': 583, 'fast': 222, 'throw': 763, 'wall': 830, 'calendar': 91, 'user': 813, 'pc': 546, 'exquisite': 209, 'squishy': 704, 'charm': 111, 'httpebaytoyimr': 333, 'strap': 717, 'decor': 167, 'shop': 656, 'completely': 134, 'using': 814, 'run': 622, 'november': 517, 'tab': 738, 'ipads': 372, 'said': 625, 'set': 648, 'pay': 545, 'card': 99, 'emoji': 198, 'applewatch': 21, 'cold': 125, 'winter': 853, 'watch': 835, 'worst': 863, 'lock': 437, 'info': 357, 'uae': 797, 'water': 836, 'answer': 18, 'security': 640, 'console': 136, 'instacool': 361, 'june': 395, 'waiting': 828, 'ad': 4, 'imac': 351, 'samsunggalaxys': 628, 'company': 132, 'blackandwhite': 59, 'hand': 303, 'ball': 39, 'walk': 829, 'tonight': 773, 'xd': 870, 'adventure': 7, 'tweetgram': 793, 'makeup': 459, 'brand': 75, 'longer': 441, 'taking': 742, 'popular': 574, 'sorry': 692, 'ordered': 535, 'beat': 44, 'goodnight': 290, 'led': 416, 'effect': 196, 'decided': 165, 'rose': 620, 'teamandroid': 747, 'started': 707, 'silver': 662, 'shit': 653, 'whats': 845, 'ill': 350, 'miss': 482, 'kiss': 404, 'win': 849, 'talk': 743, 'event': 205, 'likeforlike': 426, 'angry': 15, 'bird': 55, 'asshole': 30, 'vintage': 822, 'late': 410, 'cellphone': 105, 'tell': 751, 'post': 577, 'future': 262, 'amazon': 14, 'followtrick': 246, 'yum': 886, 'delicious': 170, 'al': 11, 'ipadmini': 371, 'die': 174, 'mi': 471, 'gorgeous': 292, 'bull': 84, 'fb': 224, 'open': 532, 'buying': 88, 'issue': 384, 'sure': 732, 'message': 470, 'tattoo': 744, 'real': 599, 'boyfriend': 74, 'bestfriend': 50, 'hard': 307, 'officially': 524, 'winning': 852, 'load': 436, 'library': 422, 'nike': 512, 'xmas': 871, 'evening': 204, 'far': 220, 'friday': 254, 'garden': 269, 'self': 641, 'samsunggalaxy': 627, 'read': 597, 'end': 199, 'middle': 475, 'touch': 776, 'able': 0, 'listen': 432, 'literally': 433, 'market': 464, 'spring': 702, 'entire': 201, 'magic': 456, 'person': 550, 'trend': 780, 'decides': 166, 'order': 534, 'unboxing': 800, 'outdoors': 538, 'explore': 208, 'landscape': 408, 'nikon': 513, 'piano': 559, 'nd': 502, 'breakfast': 77, 'replaced': 609, 'applesucks': 20, 'husband': 341, 'stand': 705, 'usb': 810, 'zoom': 889, 'pet': 551, 'verizon': 818, 'india': 355, 'ebay': 193, 'social': 681, 'small': 672, 'later': 411, 'forever': 250, 'bot': 71, 'banana': 40, 'king': 403, 'ink': 358, 'artist': 28, 'slow': 671, 'worse': 862, 'edm': 195, 'march': 463, 'dropped': 189, 'bit': 57, 'goodmorning': 289, 'inspiration': 359, 'prophet': 586, 'httpiftttborkb': 335, 'httpiftttasurcj': 334, 'men': 468, 'puppy': 589, 'mind': 478, 'iphonecase': 373, 'unlocked': 803, 'april': 25, 'lie': 423, 'juice': 393, 'sync': 737, 'review': 614, 'backup': 37, 'mode': 485, 'second': 639, 'storage': 714, 'data': 157, 'oneplus': 529, 'poem': 572, 'httpsitunesapplecomusapploveidmt': 338, 'bright': 78, 'photograph': 556, 'mad': 455, 'possible': 576, 'cracked': 144, 'inch': 354, 'chinese': 116, 'aliusaexpress': 12, 'snow': 680, 'bos': 70, 'appointment': 22, 'worth': 864, 'february': 226, 'email': 197, 'cost': 139, 'child': 113, 'bday': 42, 'skin': 668, 'humanity': 340, 'lte': 448, 'yummy': 887, 'vaio': 816, 'adorable': 6, 'ignation': 348, 'office': 523, 'la': 406, 'fml': 240, 'santa': 630, 'wireless': 854, 'million': 476, 'vacation': 815, 'nowplaying': 518, 'gave': 270, 'sell': 643, 'thankful': 756, 'smartphones': 676}\n"
          ]
        }
      ]
    },
    {
      "cell_type": "code",
      "source": [
        "len(tfidfvec.vocabulary_)"
      ],
      "metadata": {
        "colab": {
          "base_uri": "https://localhost:8080/"
        },
        "id": "McxZBHY6C6a3",
        "outputId": "c442683a-6fec-4743-fa40-4600ff1db708"
      },
      "execution_count": 123,
      "outputs": [
        {
          "output_type": "execute_result",
          "data": {
            "text/plain": [
              "890"
            ]
          },
          "metadata": {},
          "execution_count": 123
        }
      ]
    },
    {
      "cell_type": "markdown",
      "source": [
        "Word2Vec"
      ],
      "metadata": {
        "id": "09Da37urDG41"
      }
    },
    {
      "cell_type": "code",
      "source": [
        "import gensim"
      ],
      "metadata": {
        "id": "kRut1P0vC6Xv"
      },
      "execution_count": 124,
      "outputs": []
    },
    {
      "cell_type": "code",
      "source": [
        "messages['text_clean_gensim'] = messages['text'].apply(lambda x : gensim.utils.simple_preprocess(x))"
      ],
      "metadata": {
        "id": "O9mxwjcXSmg3"
      },
      "execution_count": null,
      "outputs": []
    },
    {
      "cell_type": "code",
      "source": [
        "from nltk import sent_tokenize\n",
        "from gensim.utils import simple_preprocess\n",
        "nltk.download('punkt')"
      ],
      "metadata": {
        "colab": {
          "base_uri": "https://localhost:8080/"
        },
        "id": "BokMNPoZC6U4",
        "outputId": "0d34c305-d4cc-44f1-f8d9-c2dec04eb5e4"
      },
      "execution_count": 127,
      "outputs": [
        {
          "output_type": "stream",
          "name": "stderr",
          "text": [
            "[nltk_data] Downloading package punkt to /root/nltk_data...\n",
            "[nltk_data]   Unzipping tokenizers/punkt.zip.\n"
          ]
        },
        {
          "output_type": "execute_result",
          "data": {
            "text/plain": [
              "True"
            ]
          },
          "metadata": {},
          "execution_count": 127
        }
      ]
    },
    {
      "cell_type": "code",
      "source": [
        "tweets = []\n",
        "for doc in data['tweet']: #We sentence tokenize our doc then do preprocessing\n",
        "    raw_sent = sent_tokenize(doc)\n",
        "    for sent in raw_sent:\n",
        "        tweets.append(simple_preprocess(sent))"
      ],
      "metadata": {
        "id": "uFXTM6y9C6R_"
      },
      "execution_count": 128,
      "outputs": []
    },
    {
      "cell_type": "code",
      "source": [
        "#Model building\n",
        " #by default dimension is 100 in gensim\n",
        "model = gensim.models.Word2Vec(\n",
        "    window=10,\n",
        "    min_count=2\n",
        ")"
      ],
      "metadata": {
        "id": "Bwsx7woyE4EB"
      },
      "execution_count": 177,
      "outputs": []
    },
    {
      "cell_type": "code",
      "source": [
        "#building vocabulary\n",
        "model.build_vocab(tweets)"
      ],
      "metadata": {
        "id": "-hBat72bE4BL"
      },
      "execution_count": 130,
      "outputs": []
    },
    {
      "cell_type": "code",
      "source": [
        "#training our model (trained word2vec model)\n",
        "model.train(tweets, total_examples=model.corpus_count, epochs=model.epochs)\n"
      ],
      "metadata": {
        "colab": {
          "base_uri": "https://localhost:8080/"
        },
        "id": "e6Fhxih2E378",
        "outputId": "fb03c224-f07f-46e1-c451-7d276cf0b3b5"
      },
      "execution_count": 131,
      "outputs": [
        {
          "output_type": "execute_result",
          "data": {
            "text/plain": [
              "(337393, 446250)"
            ]
          },
          "metadata": {},
          "execution_count": 131
        }
      ]
    },
    {
      "cell_type": "code",
      "source": [
        "len(model.wv.index_to_key)   #no.of words in our vocabulary\n"
      ],
      "metadata": {
        "colab": {
          "base_uri": "https://localhost:8080/"
        },
        "id": "baXIaxy6E341",
        "outputId": "99659a58-de6c-454c-fed6-de34b92135a8"
      },
      "execution_count": 188,
      "outputs": [
        {
          "output_type": "execute_result",
          "data": {
            "text/plain": [
              "0"
            ]
          },
          "metadata": {},
          "execution_count": 188
        }
      ]
    },
    {
      "cell_type": "code",
      "source": [
        "#we created vector for our words, now we will create vector to represent our tweets\n",
        "def document_vector(doc):\n",
        "    # remove out-of-vocabulary words\n",
        "    doc = [word for word in doc.split() if word in model.wv.index_to_key]\n",
        "    return np.mean(model.wv[doc], axis=0)"
      ],
      "metadata": {
        "id": "0Eg2bhIKE31u"
      },
      "execution_count": 135,
      "outputs": []
    },
    {
      "cell_type": "code",
      "source": [
        "document_vector(data['tweet'].values[0])     #converted tweets to vector"
      ],
      "metadata": {
        "colab": {
          "base_uri": "https://localhost:8080/"
        },
        "id": "0pVUkgYBE3vt",
        "outputId": "196755cb-7536-47bb-a57c-f9602ad02509"
      },
      "execution_count": 136,
      "outputs": [
        {
          "output_type": "execute_result",
          "data": {
            "text/plain": [
              "array([-0.32191738,  0.31693375,  0.21018362, -0.21935584,  0.03965358,\n",
              "       -0.79088855,  0.04341809,  1.1078453 , -0.5066143 , -0.31134206,\n",
              "       -0.425835  , -0.8216722 ,  0.15058012,  0.2714353 ,  0.09630805,\n",
              "       -0.6339229 ,  0.20036875, -0.37101603, -0.38646603, -0.97517705,\n",
              "        0.60101485, -0.0239537 ,  0.2973278 , -0.59881353, -0.02676154,\n",
              "       -0.12977225, -0.22200893, -0.36068714, -0.5461566 , -0.04174566,\n",
              "        0.48552418,  0.31422207,  0.36393481, -0.5046616 , -0.4566127 ,\n",
              "        0.63010603, -0.12692879, -0.66228443, -0.19234861, -1.0869709 ,\n",
              "        0.05067731, -0.56468993, -0.0270382 , -0.13158755,  0.31877595,\n",
              "       -0.62620664, -0.36085856,  0.07329401,  0.46008924,  0.37576628,\n",
              "        0.20095778, -0.659961  , -0.2699022 , -0.35397318, -0.03055588,\n",
              "        0.46572784,  0.3253505 , -0.15744585, -0.78675026,  0.18985981,\n",
              "        0.31168544,  0.12308173, -0.24388762, -0.39707816, -0.25705287,\n",
              "        1.0066675 ,  0.01062729,  0.18951145, -0.75023305,  0.45747992,\n",
              "       -0.3618384 ,  0.2631407 ,  0.5023504 , -0.25893193,  0.66210616,\n",
              "        0.21125774,  0.19938757,  0.2486709 , -0.39118052, -0.09098163,\n",
              "       -0.10006285,  0.15230192, -0.79358864,  0.8230285 , -0.08208216,\n",
              "       -0.0791807 ,  0.3189099 ,  0.38860676,  0.4490981 ,  0.23769765,\n",
              "        0.87965304,  0.29111058, -0.07557871, -0.23876925,  0.8683058 ,\n",
              "        0.43999824,  0.1203065 , -0.6673238 ,  0.15939242, -0.19016218],\n",
              "      dtype=float32)"
            ]
          },
          "metadata": {},
          "execution_count": 136
        }
      ]
    },
    {
      "cell_type": "code",
      "source": [
        "from tqdm import tqdm"
      ],
      "metadata": {
        "id": "qPj0ZXl1E3sX"
      },
      "execution_count": 137,
      "outputs": []
    },
    {
      "cell_type": "code",
      "source": [
        "X = np.array(X)"
      ],
      "metadata": {
        "id": "gPGYX1C6HJ-w"
      },
      "execution_count": 139,
      "outputs": []
    },
    {
      "cell_type": "code",
      "source": [
        "X.shape"
      ],
      "metadata": {
        "colab": {
          "base_uri": "https://localhost:8080/"
        },
        "id": "FcoMUlqrHOdM",
        "outputId": "9e180a97-9c86-4010-9f2a-2ce8de40f5dc"
      },
      "execution_count": 140,
      "outputs": [
        {
          "output_type": "execute_result",
          "data": {
            "text/plain": [
              "(3391, 100)"
            ]
          },
          "metadata": {},
          "execution_count": 140
        }
      ]
    },
    {
      "cell_type": "code",
      "source": [
        "X[0]"
      ],
      "metadata": {
        "colab": {
          "base_uri": "https://localhost:8080/"
        },
        "id": "ljgCuHD-HOaT",
        "outputId": "a55e7cb7-8200-4e2e-b493-b5e0487b34de"
      },
      "execution_count": 141,
      "outputs": [
        {
          "output_type": "execute_result",
          "data": {
            "text/plain": [
              "array([-0.32191738,  0.31693375,  0.21018362, -0.21935584,  0.03965358,\n",
              "       -0.79088855,  0.04341809,  1.1078453 , -0.5066143 , -0.31134206,\n",
              "       -0.425835  , -0.8216722 ,  0.15058012,  0.2714353 ,  0.09630805,\n",
              "       -0.6339229 ,  0.20036875, -0.37101603, -0.38646603, -0.97517705,\n",
              "        0.60101485, -0.0239537 ,  0.2973278 , -0.59881353, -0.02676154,\n",
              "       -0.12977225, -0.22200893, -0.36068714, -0.5461566 , -0.04174566,\n",
              "        0.48552418,  0.31422207,  0.36393481, -0.5046616 , -0.4566127 ,\n",
              "        0.63010603, -0.12692879, -0.66228443, -0.19234861, -1.0869709 ,\n",
              "        0.05067731, -0.56468993, -0.0270382 , -0.13158755,  0.31877595,\n",
              "       -0.62620664, -0.36085856,  0.07329401,  0.46008924,  0.37576628,\n",
              "        0.20095778, -0.659961  , -0.2699022 , -0.35397318, -0.03055588,\n",
              "        0.46572784,  0.3253505 , -0.15744585, -0.78675026,  0.18985981,\n",
              "        0.31168544,  0.12308173, -0.24388762, -0.39707816, -0.25705287,\n",
              "        1.0066675 ,  0.01062729,  0.18951145, -0.75023305,  0.45747992,\n",
              "       -0.3618384 ,  0.2631407 ,  0.5023504 , -0.25893193,  0.66210616,\n",
              "        0.21125774,  0.19938757,  0.2486709 , -0.39118052, -0.09098163,\n",
              "       -0.10006285,  0.15230192, -0.79358864,  0.8230285 , -0.08208216,\n",
              "       -0.0791807 ,  0.3189099 ,  0.38860676,  0.4490981 ,  0.23769765,\n",
              "        0.87965304,  0.29111058, -0.07557871, -0.23876925,  0.8683058 ,\n",
              "        0.43999824,  0.1203065 , -0.6673238 ,  0.15939242, -0.19016218],\n",
              "      dtype=float32)"
            ]
          },
          "metadata": {},
          "execution_count": 141
        }
      ]
    },
    {
      "cell_type": "code",
      "source": [
        "Y = data['label']"
      ],
      "metadata": {
        "id": "z_3I_dq7HOXx"
      },
      "execution_count": 142,
      "outputs": []
    },
    {
      "cell_type": "code",
      "source": [
        "Y = Y[:3391]   #Modifying your X and Y datasets so that they have the same number of samples."
      ],
      "metadata": {
        "id": "knGQlHYLJGS-"
      },
      "execution_count": 147,
      "outputs": []
    },
    {
      "cell_type": "code",
      "source": [
        "from sklearn.model_selection import train_test_split\n",
        "X_train,X_test,Y_train,Y_test = train_test_split(X,Y,test_size=0.2,random_state=0)"
      ],
      "metadata": {
        "id": "gtnadcKrHbxy"
      },
      "execution_count": 148,
      "outputs": []
    },
    {
      "cell_type": "code",
      "source": [
        "from sklearn.ensemble import RandomForestClassifier\n",
        "from sklearn.metrics import accuracy_score\n"
      ],
      "metadata": {
        "id": "-MwtVQT0HbuH"
      },
      "execution_count": 149,
      "outputs": []
    },
    {
      "cell_type": "code",
      "source": [
        "rf = RandomForestClassifier()\n",
        "rf.fit(X_train,Y_train)\n",
        "Y_pred = rf.predict(X_test)\n",
        "accuracy_score(Y_test,Y_pred)"
      ],
      "metadata": {
        "colab": {
          "base_uri": "https://localhost:8080/"
        },
        "id": "e4RtxE-lHbrV",
        "outputId": "5a1cf689-3ec1-4979-a588-423c35b78374"
      },
      "execution_count": 150,
      "outputs": [
        {
          "output_type": "execute_result",
          "data": {
            "text/plain": [
              "0.8217967599410898"
            ]
          },
          "metadata": {},
          "execution_count": 150
        }
      ]
    },
    {
      "cell_type": "markdown",
      "source": [
        "Model Building and Evaluation"
      ],
      "metadata": {
        "id": "rdiCN54PKbew"
      }
    },
    {
      "cell_type": "markdown",
      "source": [
        " Logistic regression\n",
        ""
      ],
      "metadata": {
        "id": "TAcpZdX2MZ1i"
      }
    },
    {
      "cell_type": "code",
      "source": [
        "# Logistic regression\n",
        "## Using BOW\n",
        "\n",
        "from sklearn.linear_model import LogisticRegression\n",
        "lr= LogisticRegression()"
      ],
      "metadata": {
        "id": "LgI_RmB9G5b2"
      },
      "execution_count": 151,
      "outputs": []
    },
    {
      "cell_type": "code",
      "source": [
        "lr.fit(x_train_bow,y_train)\n",
        "y_pred = lr.predict(x_test_bow)"
      ],
      "metadata": {
        "id": "O9ML1bU_G5ZQ"
      },
      "execution_count": 152,
      "outputs": []
    },
    {
      "cell_type": "code",
      "source": [
        "from sklearn.metrics import accuracy_score, recall_score, f1_score, confusion_matrix, classification_report\n",
        "accuracy_score(y_test,y_pred)"
      ],
      "metadata": {
        "colab": {
          "base_uri": "https://localhost:8080/"
        },
        "id": "EM0RjqkpG5V8",
        "outputId": "df686866-4443-4112-9fd9-8b4b36d1f1db"
      },
      "execution_count": 153,
      "outputs": [
        {
          "output_type": "execute_result",
          "data": {
            "text/plain": [
              "0.86489898989899"
            ]
          },
          "metadata": {},
          "execution_count": 153
        }
      ]
    },
    {
      "cell_type": "code",
      "source": [
        "## Using Tf-IDF"
      ],
      "metadata": {
        "id": "Wm3evU9kC6O-"
      },
      "execution_count": 155,
      "outputs": []
    },
    {
      "cell_type": "code",
      "source": [
        "lr= LogisticRegression()\n",
        "lr.fit(x_train_tfidf,y_train)\n"
      ],
      "metadata": {
        "colab": {
          "base_uri": "https://localhost:8080/",
          "height": 75
        },
        "id": "ls1kHp0uLQ48",
        "outputId": "df6be5c5-1a32-4093-8990-56b7ae512ea8"
      },
      "execution_count": 156,
      "outputs": [
        {
          "output_type": "execute_result",
          "data": {
            "text/plain": [
              "LogisticRegression()"
            ],
            "text/html": [
              "<style>#sk-container-id-4 {color: black;background-color: white;}#sk-container-id-4 pre{padding: 0;}#sk-container-id-4 div.sk-toggleable {background-color: white;}#sk-container-id-4 label.sk-toggleable__label {cursor: pointer;display: block;width: 100%;margin-bottom: 0;padding: 0.3em;box-sizing: border-box;text-align: center;}#sk-container-id-4 label.sk-toggleable__label-arrow:before {content: \"▸\";float: left;margin-right: 0.25em;color: #696969;}#sk-container-id-4 label.sk-toggleable__label-arrow:hover:before {color: black;}#sk-container-id-4 div.sk-estimator:hover label.sk-toggleable__label-arrow:before {color: black;}#sk-container-id-4 div.sk-toggleable__content {max-height: 0;max-width: 0;overflow: hidden;text-align: left;background-color: #f0f8ff;}#sk-container-id-4 div.sk-toggleable__content pre {margin: 0.2em;color: black;border-radius: 0.25em;background-color: #f0f8ff;}#sk-container-id-4 input.sk-toggleable__control:checked~div.sk-toggleable__content {max-height: 200px;max-width: 100%;overflow: auto;}#sk-container-id-4 input.sk-toggleable__control:checked~label.sk-toggleable__label-arrow:before {content: \"▾\";}#sk-container-id-4 div.sk-estimator input.sk-toggleable__control:checked~label.sk-toggleable__label {background-color: #d4ebff;}#sk-container-id-4 div.sk-label input.sk-toggleable__control:checked~label.sk-toggleable__label {background-color: #d4ebff;}#sk-container-id-4 input.sk-hidden--visually {border: 0;clip: rect(1px 1px 1px 1px);clip: rect(1px, 1px, 1px, 1px);height: 1px;margin: -1px;overflow: hidden;padding: 0;position: absolute;width: 1px;}#sk-container-id-4 div.sk-estimator {font-family: monospace;background-color: #f0f8ff;border: 1px dotted black;border-radius: 0.25em;box-sizing: border-box;margin-bottom: 0.5em;}#sk-container-id-4 div.sk-estimator:hover {background-color: #d4ebff;}#sk-container-id-4 div.sk-parallel-item::after {content: \"\";width: 100%;border-bottom: 1px solid gray;flex-grow: 1;}#sk-container-id-4 div.sk-label:hover label.sk-toggleable__label {background-color: #d4ebff;}#sk-container-id-4 div.sk-serial::before {content: \"\";position: absolute;border-left: 1px solid gray;box-sizing: border-box;top: 0;bottom: 0;left: 50%;z-index: 0;}#sk-container-id-4 div.sk-serial {display: flex;flex-direction: column;align-items: center;background-color: white;padding-right: 0.2em;padding-left: 0.2em;position: relative;}#sk-container-id-4 div.sk-item {position: relative;z-index: 1;}#sk-container-id-4 div.sk-parallel {display: flex;align-items: stretch;justify-content: center;background-color: white;position: relative;}#sk-container-id-4 div.sk-item::before, #sk-container-id-4 div.sk-parallel-item::before {content: \"\";position: absolute;border-left: 1px solid gray;box-sizing: border-box;top: 0;bottom: 0;left: 50%;z-index: -1;}#sk-container-id-4 div.sk-parallel-item {display: flex;flex-direction: column;z-index: 1;position: relative;background-color: white;}#sk-container-id-4 div.sk-parallel-item:first-child::after {align-self: flex-end;width: 50%;}#sk-container-id-4 div.sk-parallel-item:last-child::after {align-self: flex-start;width: 50%;}#sk-container-id-4 div.sk-parallel-item:only-child::after {width: 0;}#sk-container-id-4 div.sk-dashed-wrapped {border: 1px dashed gray;margin: 0 0.4em 0.5em 0.4em;box-sizing: border-box;padding-bottom: 0.4em;background-color: white;}#sk-container-id-4 div.sk-label label {font-family: monospace;font-weight: bold;display: inline-block;line-height: 1.2em;}#sk-container-id-4 div.sk-label-container {text-align: center;}#sk-container-id-4 div.sk-container {/* jupyter's `normalize.less` sets `[hidden] { display: none; }` but bootstrap.min.css set `[hidden] { display: none !important; }` so we also need the `!important` here to be able to override the default hidden behavior on the sphinx rendered scikit-learn.org. See: https://github.com/scikit-learn/scikit-learn/issues/21755 */display: inline-block !important;position: relative;}#sk-container-id-4 div.sk-text-repr-fallback {display: none;}</style><div id=\"sk-container-id-4\" class=\"sk-top-container\"><div class=\"sk-text-repr-fallback\"><pre>LogisticRegression()</pre><b>In a Jupyter environment, please rerun this cell to show the HTML representation or trust the notebook. <br />On GitHub, the HTML representation is unable to render, please try loading this page with nbviewer.org.</b></div><div class=\"sk-container\" hidden><div class=\"sk-item\"><div class=\"sk-estimator sk-toggleable\"><input class=\"sk-toggleable__control sk-hidden--visually\" id=\"sk-estimator-id-4\" type=\"checkbox\" checked><label for=\"sk-estimator-id-4\" class=\"sk-toggleable__label sk-toggleable__label-arrow\">LogisticRegression</label><div class=\"sk-toggleable__content\"><pre>LogisticRegression()</pre></div></div></div></div></div>"
            ]
          },
          "metadata": {},
          "execution_count": 156
        }
      ]
    },
    {
      "cell_type": "code",
      "source": [
        "y_pred = lr.predict(x_test_tfidf)\n",
        "accuracy_score(y_test,y_pred)"
      ],
      "metadata": {
        "colab": {
          "base_uri": "https://localhost:8080/"
        },
        "id": "qra1bmobLQ2F",
        "outputId": "33828d48-2b94-490f-8780-7d1bcc85bd1a"
      },
      "execution_count": 157,
      "outputs": [
        {
          "output_type": "execute_result",
          "data": {
            "text/plain": [
              "0.8674242424242424"
            ]
          },
          "metadata": {},
          "execution_count": 157
        }
      ]
    },
    {
      "cell_type": "markdown",
      "source": [
        "RandomForestClassifier\n"
      ],
      "metadata": {
        "id": "MNm_RlxzMA2A"
      }
    },
    {
      "cell_type": "code",
      "source": [
        "## Using BOW\n",
        "from sklearn.ensemble import RandomForestClassifier\n",
        "rf = RandomForestClassifier()\n",
        "\n",
        "rf.fit(x_train_bow,y_train)\n",
        "y_pred = rf.predict(x_test_bow)\n",
        "accuracy_score(y_test,y_pred)"
      ],
      "metadata": {
        "colab": {
          "base_uri": "https://localhost:8080/"
        },
        "id": "y6A-Q0zZLQze",
        "outputId": "b2f498a1-b056-42e7-9213-9caeb0609363"
      },
      "execution_count": 158,
      "outputs": [
        {
          "output_type": "execute_result",
          "data": {
            "text/plain": [
              "0.8257575757575758"
            ]
          },
          "metadata": {},
          "execution_count": 158
        }
      ]
    },
    {
      "cell_type": "code",
      "source": [
        "## Using TF-IDF\n",
        "rf = RandomForestClassifier()\n",
        "\n",
        "rf.fit(x_train_tfidf,y_train)\n",
        "y_pred = rf.predict(x_test_tfidf)\n",
        "accuracy_score(y_test,y_pred)"
      ],
      "metadata": {
        "colab": {
          "base_uri": "https://localhost:8080/"
        },
        "id": "ByIu4xSILQwm",
        "outputId": "0a7af404-2340-4866-809e-28f47e0a5639"
      },
      "execution_count": 160,
      "outputs": [
        {
          "output_type": "execute_result",
          "data": {
            "text/plain": [
              "0.8491161616161617"
            ]
          },
          "metadata": {},
          "execution_count": 160
        }
      ]
    },
    {
      "cell_type": "markdown",
      "source": [
        "GaussianNB"
      ],
      "metadata": {
        "id": "bs76AQRxMnYg"
      }
    },
    {
      "cell_type": "code",
      "source": [
        "## Using BOW\n",
        "#Gaussian Naive Bayes algorithm\n",
        "from sklearn.naive_bayes import GaussianNB\n",
        "gnb = GaussianNB()\n",
        "\n",
        "gnb.fit(x_train_bow,y_train)"
      ],
      "metadata": {
        "colab": {
          "base_uri": "https://localhost:8080/",
          "height": 75
        },
        "id": "9-CIA5o9LQuU",
        "outputId": "16404c31-7ce9-4ed1-9309-8cb34bd47154"
      },
      "execution_count": 161,
      "outputs": [
        {
          "output_type": "execute_result",
          "data": {
            "text/plain": [
              "GaussianNB()"
            ],
            "text/html": [
              "<style>#sk-container-id-5 {color: black;background-color: white;}#sk-container-id-5 pre{padding: 0;}#sk-container-id-5 div.sk-toggleable {background-color: white;}#sk-container-id-5 label.sk-toggleable__label {cursor: pointer;display: block;width: 100%;margin-bottom: 0;padding: 0.3em;box-sizing: border-box;text-align: center;}#sk-container-id-5 label.sk-toggleable__label-arrow:before {content: \"▸\";float: left;margin-right: 0.25em;color: #696969;}#sk-container-id-5 label.sk-toggleable__label-arrow:hover:before {color: black;}#sk-container-id-5 div.sk-estimator:hover label.sk-toggleable__label-arrow:before {color: black;}#sk-container-id-5 div.sk-toggleable__content {max-height: 0;max-width: 0;overflow: hidden;text-align: left;background-color: #f0f8ff;}#sk-container-id-5 div.sk-toggleable__content pre {margin: 0.2em;color: black;border-radius: 0.25em;background-color: #f0f8ff;}#sk-container-id-5 input.sk-toggleable__control:checked~div.sk-toggleable__content {max-height: 200px;max-width: 100%;overflow: auto;}#sk-container-id-5 input.sk-toggleable__control:checked~label.sk-toggleable__label-arrow:before {content: \"▾\";}#sk-container-id-5 div.sk-estimator input.sk-toggleable__control:checked~label.sk-toggleable__label {background-color: #d4ebff;}#sk-container-id-5 div.sk-label input.sk-toggleable__control:checked~label.sk-toggleable__label {background-color: #d4ebff;}#sk-container-id-5 input.sk-hidden--visually {border: 0;clip: rect(1px 1px 1px 1px);clip: rect(1px, 1px, 1px, 1px);height: 1px;margin: -1px;overflow: hidden;padding: 0;position: absolute;width: 1px;}#sk-container-id-5 div.sk-estimator {font-family: monospace;background-color: #f0f8ff;border: 1px dotted black;border-radius: 0.25em;box-sizing: border-box;margin-bottom: 0.5em;}#sk-container-id-5 div.sk-estimator:hover {background-color: #d4ebff;}#sk-container-id-5 div.sk-parallel-item::after {content: \"\";width: 100%;border-bottom: 1px solid gray;flex-grow: 1;}#sk-container-id-5 div.sk-label:hover label.sk-toggleable__label {background-color: #d4ebff;}#sk-container-id-5 div.sk-serial::before {content: \"\";position: absolute;border-left: 1px solid gray;box-sizing: border-box;top: 0;bottom: 0;left: 50%;z-index: 0;}#sk-container-id-5 div.sk-serial {display: flex;flex-direction: column;align-items: center;background-color: white;padding-right: 0.2em;padding-left: 0.2em;position: relative;}#sk-container-id-5 div.sk-item {position: relative;z-index: 1;}#sk-container-id-5 div.sk-parallel {display: flex;align-items: stretch;justify-content: center;background-color: white;position: relative;}#sk-container-id-5 div.sk-item::before, #sk-container-id-5 div.sk-parallel-item::before {content: \"\";position: absolute;border-left: 1px solid gray;box-sizing: border-box;top: 0;bottom: 0;left: 50%;z-index: -1;}#sk-container-id-5 div.sk-parallel-item {display: flex;flex-direction: column;z-index: 1;position: relative;background-color: white;}#sk-container-id-5 div.sk-parallel-item:first-child::after {align-self: flex-end;width: 50%;}#sk-container-id-5 div.sk-parallel-item:last-child::after {align-self: flex-start;width: 50%;}#sk-container-id-5 div.sk-parallel-item:only-child::after {width: 0;}#sk-container-id-5 div.sk-dashed-wrapped {border: 1px dashed gray;margin: 0 0.4em 0.5em 0.4em;box-sizing: border-box;padding-bottom: 0.4em;background-color: white;}#sk-container-id-5 div.sk-label label {font-family: monospace;font-weight: bold;display: inline-block;line-height: 1.2em;}#sk-container-id-5 div.sk-label-container {text-align: center;}#sk-container-id-5 div.sk-container {/* jupyter's `normalize.less` sets `[hidden] { display: none; }` but bootstrap.min.css set `[hidden] { display: none !important; }` so we also need the `!important` here to be able to override the default hidden behavior on the sphinx rendered scikit-learn.org. See: https://github.com/scikit-learn/scikit-learn/issues/21755 */display: inline-block !important;position: relative;}#sk-container-id-5 div.sk-text-repr-fallback {display: none;}</style><div id=\"sk-container-id-5\" class=\"sk-top-container\"><div class=\"sk-text-repr-fallback\"><pre>GaussianNB()</pre><b>In a Jupyter environment, please rerun this cell to show the HTML representation or trust the notebook. <br />On GitHub, the HTML representation is unable to render, please try loading this page with nbviewer.org.</b></div><div class=\"sk-container\" hidden><div class=\"sk-item\"><div class=\"sk-estimator sk-toggleable\"><input class=\"sk-toggleable__control sk-hidden--visually\" id=\"sk-estimator-id-5\" type=\"checkbox\" checked><label for=\"sk-estimator-id-5\" class=\"sk-toggleable__label sk-toggleable__label-arrow\">GaussianNB</label><div class=\"sk-toggleable__content\"><pre>GaussianNB()</pre></div></div></div></div></div>"
            ]
          },
          "metadata": {},
          "execution_count": 161
        }
      ]
    },
    {
      "cell_type": "code",
      "source": [
        "y_pred = gnb.predict(x_test_bow)\n",
        "\n",
        "from sklearn.metrics import accuracy_score,confusion_matrix\n",
        "accuracy_score(y_test,y_pred)"
      ],
      "metadata": {
        "colab": {
          "base_uri": "https://localhost:8080/"
        },
        "id": "Yr-Zk1BQLQrd",
        "outputId": "357b5663-bd96-4c68-c449-af605ce034db"
      },
      "execution_count": 162,
      "outputs": [
        {
          "output_type": "execute_result",
          "data": {
            "text/plain": [
              "0.6698232323232324"
            ]
          },
          "metadata": {},
          "execution_count": 162
        }
      ]
    },
    {
      "cell_type": "code",
      "source": [
        "## Using TF-IDF"
      ],
      "metadata": {
        "id": "9CTw1cjoLQlc"
      },
      "execution_count": null,
      "outputs": []
    },
    {
      "cell_type": "code",
      "source": [
        "gnb = GaussianNB()\n",
        "\n",
        "gnb.fit(x_train_tfidf,y_train)"
      ],
      "metadata": {
        "colab": {
          "base_uri": "https://localhost:8080/",
          "height": 75
        },
        "id": "9vuGjEwVM2SV",
        "outputId": "268c9a2d-3b4a-4b45-ae66-f338d240b28b"
      },
      "execution_count": 163,
      "outputs": [
        {
          "output_type": "execute_result",
          "data": {
            "text/plain": [
              "GaussianNB()"
            ],
            "text/html": [
              "<style>#sk-container-id-6 {color: black;background-color: white;}#sk-container-id-6 pre{padding: 0;}#sk-container-id-6 div.sk-toggleable {background-color: white;}#sk-container-id-6 label.sk-toggleable__label {cursor: pointer;display: block;width: 100%;margin-bottom: 0;padding: 0.3em;box-sizing: border-box;text-align: center;}#sk-container-id-6 label.sk-toggleable__label-arrow:before {content: \"▸\";float: left;margin-right: 0.25em;color: #696969;}#sk-container-id-6 label.sk-toggleable__label-arrow:hover:before {color: black;}#sk-container-id-6 div.sk-estimator:hover label.sk-toggleable__label-arrow:before {color: black;}#sk-container-id-6 div.sk-toggleable__content {max-height: 0;max-width: 0;overflow: hidden;text-align: left;background-color: #f0f8ff;}#sk-container-id-6 div.sk-toggleable__content pre {margin: 0.2em;color: black;border-radius: 0.25em;background-color: #f0f8ff;}#sk-container-id-6 input.sk-toggleable__control:checked~div.sk-toggleable__content {max-height: 200px;max-width: 100%;overflow: auto;}#sk-container-id-6 input.sk-toggleable__control:checked~label.sk-toggleable__label-arrow:before {content: \"▾\";}#sk-container-id-6 div.sk-estimator input.sk-toggleable__control:checked~label.sk-toggleable__label {background-color: #d4ebff;}#sk-container-id-6 div.sk-label input.sk-toggleable__control:checked~label.sk-toggleable__label {background-color: #d4ebff;}#sk-container-id-6 input.sk-hidden--visually {border: 0;clip: rect(1px 1px 1px 1px);clip: rect(1px, 1px, 1px, 1px);height: 1px;margin: -1px;overflow: hidden;padding: 0;position: absolute;width: 1px;}#sk-container-id-6 div.sk-estimator {font-family: monospace;background-color: #f0f8ff;border: 1px dotted black;border-radius: 0.25em;box-sizing: border-box;margin-bottom: 0.5em;}#sk-container-id-6 div.sk-estimator:hover {background-color: #d4ebff;}#sk-container-id-6 div.sk-parallel-item::after {content: \"\";width: 100%;border-bottom: 1px solid gray;flex-grow: 1;}#sk-container-id-6 div.sk-label:hover label.sk-toggleable__label {background-color: #d4ebff;}#sk-container-id-6 div.sk-serial::before {content: \"\";position: absolute;border-left: 1px solid gray;box-sizing: border-box;top: 0;bottom: 0;left: 50%;z-index: 0;}#sk-container-id-6 div.sk-serial {display: flex;flex-direction: column;align-items: center;background-color: white;padding-right: 0.2em;padding-left: 0.2em;position: relative;}#sk-container-id-6 div.sk-item {position: relative;z-index: 1;}#sk-container-id-6 div.sk-parallel {display: flex;align-items: stretch;justify-content: center;background-color: white;position: relative;}#sk-container-id-6 div.sk-item::before, #sk-container-id-6 div.sk-parallel-item::before {content: \"\";position: absolute;border-left: 1px solid gray;box-sizing: border-box;top: 0;bottom: 0;left: 50%;z-index: -1;}#sk-container-id-6 div.sk-parallel-item {display: flex;flex-direction: column;z-index: 1;position: relative;background-color: white;}#sk-container-id-6 div.sk-parallel-item:first-child::after {align-self: flex-end;width: 50%;}#sk-container-id-6 div.sk-parallel-item:last-child::after {align-self: flex-start;width: 50%;}#sk-container-id-6 div.sk-parallel-item:only-child::after {width: 0;}#sk-container-id-6 div.sk-dashed-wrapped {border: 1px dashed gray;margin: 0 0.4em 0.5em 0.4em;box-sizing: border-box;padding-bottom: 0.4em;background-color: white;}#sk-container-id-6 div.sk-label label {font-family: monospace;font-weight: bold;display: inline-block;line-height: 1.2em;}#sk-container-id-6 div.sk-label-container {text-align: center;}#sk-container-id-6 div.sk-container {/* jupyter's `normalize.less` sets `[hidden] { display: none; }` but bootstrap.min.css set `[hidden] { display: none !important; }` so we also need the `!important` here to be able to override the default hidden behavior on the sphinx rendered scikit-learn.org. See: https://github.com/scikit-learn/scikit-learn/issues/21755 */display: inline-block !important;position: relative;}#sk-container-id-6 div.sk-text-repr-fallback {display: none;}</style><div id=\"sk-container-id-6\" class=\"sk-top-container\"><div class=\"sk-text-repr-fallback\"><pre>GaussianNB()</pre><b>In a Jupyter environment, please rerun this cell to show the HTML representation or trust the notebook. <br />On GitHub, the HTML representation is unable to render, please try loading this page with nbviewer.org.</b></div><div class=\"sk-container\" hidden><div class=\"sk-item\"><div class=\"sk-estimator sk-toggleable\"><input class=\"sk-toggleable__control sk-hidden--visually\" id=\"sk-estimator-id-6\" type=\"checkbox\" checked><label for=\"sk-estimator-id-6\" class=\"sk-toggleable__label sk-toggleable__label-arrow\">GaussianNB</label><div class=\"sk-toggleable__content\"><pre>GaussianNB()</pre></div></div></div></div></div>"
            ]
          },
          "metadata": {},
          "execution_count": 163
        }
      ]
    },
    {
      "cell_type": "code",
      "source": [
        "y_pred = gnb.predict(x_test_tfidf)\n",
        "\n",
        "accuracy_score(y_test,y_pred)\n"
      ],
      "metadata": {
        "colab": {
          "base_uri": "https://localhost:8080/"
        },
        "id": "foyFhB-vM2O7",
        "outputId": "73c7c239-e360-4623-f817-b8475eb0739d"
      },
      "execution_count": 164,
      "outputs": [
        {
          "output_type": "execute_result",
          "data": {
            "text/plain": [
              "0.6786616161616161"
            ]
          },
          "metadata": {},
          "execution_count": 164
        }
      ]
    },
    {
      "cell_type": "code",
      "source": [
        "print(classification_report(y_test,y_pred))"
      ],
      "metadata": {
        "colab": {
          "base_uri": "https://localhost:8080/"
        },
        "id": "o94s_9vUc-nN",
        "outputId": "d50aeeac-67ef-4f19-85ee-4ea6fc60c345"
      },
      "execution_count": 199,
      "outputs": [
        {
          "output_type": "stream",
          "name": "stdout",
          "text": [
            "              precision    recall  f1-score   support\n",
            "\n",
            "           0       0.96      0.59      0.73      1168\n",
            "           1       0.45      0.94      0.61       416\n",
            "\n",
            "    accuracy                           0.68      1584\n",
            "   macro avg       0.71      0.76      0.67      1584\n",
            "weighted avg       0.83      0.68      0.70      1584\n",
            "\n"
          ]
        }
      ]
    },
    {
      "cell_type": "markdown",
      "source": [
        "Best performing one is Logistic Regression model with TF-IDF feature extraction technique"
      ],
      "metadata": {
        "id": "AhuqyE1QfPHK"
      }
    },
    {
      "cell_type": "code",
      "source": [
        "import matplotlib.pyplot as plt\n",
        "import seaborn as sns"
      ],
      "metadata": {
        "id": "5GgMNzDHdKQv"
      },
      "execution_count": 200,
      "outputs": []
    },
    {
      "cell_type": "code",
      "source": [
        "# Calculate the counts of 0s and 1s\n",
        "unique, counts = np.unique(y_pred, return_counts=True)\n",
        "counts_dict = dict(zip(unique, counts))\n",
        "# Define colors for each class\n",
        "colors = ['red', 'green']\n",
        "print(counts_dict)"
      ],
      "metadata": {
        "colab": {
          "base_uri": "https://localhost:8080/"
        },
        "id": "RM10m7DddQUC",
        "outputId": "d831a55c-2c96-41f3-f384-e05ee247850a"
      },
      "execution_count": 205,
      "outputs": [
        {
          "output_type": "stream",
          "name": "stdout",
          "text": [
            "{0: 709, 1: 875}\n"
          ]
        }
      ]
    },
    {
      "cell_type": "code",
      "source": [
        "# Create a bar graph\n",
        "plt.bar(counts_dict.keys(), counts_dict.values(), color=colors)\n",
        "plt.xlabel('Negative sentiment or Positive sentiment')\n",
        "plt.ylabel('Count')\n",
        "plt.xticks(list(counts_dict.keys()))\n",
        "plt.title('Sentiment of the tweet')\n",
        "plt.show()"
      ],
      "metadata": {
        "colab": {
          "base_uri": "https://localhost:8080/",
          "height": 472
        },
        "id": "Z1e9vU1XdpcX",
        "outputId": "581c9ee1-a301-44db-95e8-ddf169684eaf"
      },
      "execution_count": 206,
      "outputs": [
        {
          "output_type": "display_data",
          "data": {
            "text/plain": [
              "<Figure size 640x480 with 1 Axes>"
            ],
            "image/png": "[encoded data removed]"
          },
          "metadata": {}
        }
      ]
    },
    {
      "cell_type": "code",
      "source": [],
      "metadata": {
        "id": "8adfeafTfeJc"
      },
      "execution_count": null,
      "outputs": []
    }
  ]
}